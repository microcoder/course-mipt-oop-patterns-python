{
 "cells": [
  {
   "cell_type": "markdown",
   "metadata": {},
   "source": [
    "# Проектирование приложения «сверху-вниз»\n",
    "\n",
    "**<span style=\"color: red;\">Пример ниже лучше не запускать и не заморачиваться с библиотеками которые не доступны в PyPI.\n",
    "Просто читаем код, не запускаем:</span>**"
   ]
  },
  {
   "cell_type": "code",
   "execution_count": null,
   "metadata": {
    "ExecuteTime": {
     "end_time": "2018-07-16T17:39:50.876726Z",
     "start_time": "2018-07-16T17:39:50.775626Z"
    }
   },
   "outputs": [],
   "source": [
    "import graphics as gr\n",
    "\n",
    "\n",
    "def main():\n",
    "    window = gr.GraphWin(\"My Image\", 600, 600)\n",
    "    draw_image(window)\n",
    "    window.getMouse()\n",
    "\n",
    "\n",
    "def draw_image(window):\n",
    "    house_x, house_y = window.width // 2, window.height * 2 // 3\n",
    "    house_width = window.width // 3\n",
    "    house_height = house_width * 4 // 3\n",
    "\n",
    "    draw_background(window)\n",
    "    draw_house(window, house_x, house_y, house_width, house_height)\n",
    "\n",
    "\n",
    "def draw_background(window):\n",
    "    earth = gr.Rectangle(gr.Point(0, window.height // 2),\n",
    "                         gr.Point(window.width - 1, window.height - 1))\n",
    "    earth.setFill(\"green\")\n",
    "    earth.draw(window)\n",
    "    scy = gr.Rectangle(gr.Point(0, 0),\n",
    "                       gr.Point(window.width - 1, window.height // 2))\n",
    "    scy.setFill(\"cyan\")\n",
    "    scy.draw(window)\n",
    "\n",
    "\n",
    "def draw_house(window, x, y, width, height):\n",
    "    foundation_height = height // 8\n",
    "    walls_height = height // 2\n",
    "    walls_width = 7 * width // 8\n",
    "    roof_height = height - walls_height - foundation_height\n",
    "\n",
    "    draw_house_foundation(window, x, y, width, foundation_height)\n",
    "    draw_house_walls(window, x, y - foundation_height,\n",
    "                     walls_width, walls_height)\n",
    "    draw_house_roof(window, x, y - foundation_height - walls_height,\n",
    "                    width, roof_height)\n",
    "\n",
    "\n",
    "def draw_house_foundation(window, x, y, width, height):\n",
    "    foundation = gr.Rectangle(gr.Point(x - width // 2, y),\n",
    "                              gr.Point(x + width // 2, y - height))\n",
    "    foundation.setFill(\"brown\")\n",
    "    foundation.draw(window)\n",
    "\n",
    "\n",
    "def draw_house_walls(window, x, y, width, height):\n",
    "    walls = gr.Rectangle(gr.Point(x - width // 2, y),\n",
    "                         gr.Point(x + width // 2, y - height))\n",
    "    walls.setFill(\"red\")\n",
    "    walls.draw(window)\n",
    "    draw_house_window(window, x, y - height // 4,\n",
    "                      width // 3, height // 2)\n",
    "\n",
    "\n",
    "def draw_house_window(window, x, y, width, height):\n",
    "    glass = gr.Rectangle(gr.Point(x - width // 2, y),\n",
    "                         gr.Point(x + width // 2, y - height))\n",
    "    glass.setFill(\"blue\")\n",
    "    line1 = gr.Line(gr.Point(x, y), gr.Point(x, y - height))\n",
    "    line2 = gr.Line(gr.Point(x - width // 2, y - height // 2),\n",
    "                    gr.Point(x + width // 2, y - height // 2))\n",
    "    glass.draw(window)\n",
    "    line1.draw(window)\n",
    "    line2.draw(window)\n",
    "    line1.setOutline(\"black\")\n",
    "    line2.setOutline(\"black\")\n",
    "    line1.setWidth(2)\n",
    "    line2.setWidth(2)\n",
    "\n",
    "\n",
    "def draw_house_roof(window, x, y, width, height):\n",
    "    roof = gr.Polygon(gr.Point(x - width // 2, y),\n",
    "                      gr.Point(x + width // 2, y),\n",
    "                      gr.Point(x, y - height))\n",
    "    roof.setFill(\"green\")\n",
    "    roof.draw(window)\n",
    "\n",
    "\n",
    "if __name__ == \"__main__\":\n",
    "    main()\n"
   ]
  },
  {
   "cell_type": "markdown",
   "metadata": {},
   "source": [
    "**Замечание автора**\n",
    "\n",
    "Этот программный код нельзя назвать образцовым. Дело в том, что в функциях отсутствуют документ-строки, а документирование функций — это очень важно. Однако, в данном уроке нет цели обучить этому навыку. В ущерб перфекционизму мы здесь концентрируемся на парадигме структурного программирования, а особенно на навыке декомпозиции задачи и итеративном движении сверху-вниз."
   ]
  },
  {
   "cell_type": "markdown",
   "metadata": {},
   "source": [
    "## Понятие о структурном программировании\n",
    "\n",
    "Структурное программирование - парадигма разработки программ с помощью представления их в виде иерархической структуры блоков. Сюда входит три пункта:\n",
    "\n",
    "1. Любая программа состоит из трех типов конструкций: последовательное исполнение, ветвление, цикл.\n",
    "2. Логически целостные фрагменты программы оформляются в виде подпрограмм. В тексте основной программы вставляется инструкция вызова подпрограммы. После окончания подпрограммы исполнение продолжается с инструкции, следующей за командой вызова подпрограммы.\n",
    "3. Разработка программы ведется поэтапно методом \"сверху вниз\".\n",
    "\n",
    "Первый пункт скорее важен не тем, что в нем есть, а тем, чего в нем нет: в нем нет оператора безусловного перехода goto. Именно это отличает структурное программирование от процедурного. Благодаря пункту два в языках высокого уровня появились новые синтаксические конструкции: функции и процедуры.\n",
    "\n",
    "Пункт три самый важный и является сутью парадигмы структурного программирования.\n",
    "\n",
    "## Проектирование \"сверху вниз\"\n",
    "\n",
    "Как было сказано выше, сама суть структурного программирования лежит в подходе к проектированию программы. Для понимания этого приведем процесс решения конкретной задачи во времени.\n",
    "\n",
    "**Условие**. Пусть в некоторой стране зарплата сотрудника дорожной патрульной службы состоит из штрафов, накладываемых на водителей за превышение скорости в 60 км/ч, штраф напрямую зависит от номера автомобиля, а рабочий день заканчивается с приездом начальника, при этом начальника штрафовать нельзя. Требуется посчитать зарплату сотрудника за день.\n",
    "\n",
    "Входные данные подаются построчно, в каждой строке - скорость (целое число) и номер автомобиля (6 символов - 1 буква, 3 цифры и еще 2 буквы).\n",
    "\n",
    "Штраф для автомобильных номеров зависит от количества совпадающих цифр: три совпадают - 1000 у.е., две любые цифры совпадают - 500 у.е., все цифры разные - 100 у.е.\n",
    "\n",
    "**Примечание**: все комментарии в примерах будут на русском языке, что нарушает PEP 8. Это сделано для простоты восприятия примера.\n",
    "\n",
    "**Шаг №1**. Предположим, что все уже написано для нас:"
   ]
  },
  {
   "cell_type": "code",
   "execution_count": null,
   "metadata": {
    "ExecuteTime": {
     "end_time": "2018-07-16T18:05:52.477025Z",
     "start_time": "2018-07-16T18:05:52.462126Z"
    }
   },
   "outputs": [],
   "source": [
    "def main():\n",
    "    salary = calculate_salary()\n",
    "    print(salary)\n",
    "\n",
    "\n",
    "if __name__ == \"__main__\":\n",
    "    main()"
   ]
  },
  {
   "cell_type": "markdown",
   "metadata": {},
   "source": [
    "**Шаг №2**. Но это не будет работать, так как функция `calculate_salary` отсутствует. Исправим это:"
   ]
  },
  {
   "cell_type": "code",
   "execution_count": 4,
   "metadata": {
    "ExecuteTime": {
     "end_time": "2018-07-16T18:11:21.422014Z",
     "start_time": "2018-07-16T18:11:21.416657Z"
    }
   },
   "outputs": [
    {
     "name": "stdout",
     "output_type": "stream",
     "text": [
      "None\n"
     ]
    }
   ],
   "source": [
    "def main():\n",
    "    salary = calculate_salary()\n",
    "    print(salary)\n",
    "\n",
    "\n",
    "def calculate_salary():\n",
    "    \"\"\"\n",
    "    Функция считает зарплату сотрудника ДПС, считывая исходные данные с клавиатуры.\n",
    "    \n",
    "    :returns: Зарплата сотрудника\n",
    "    \n",
    "    .. todo:: Реализовать функцию\n",
    "    \"\"\"\n",
    "    pass\n",
    "\n",
    "\n",
    "if __name__ == \"__main__\":\n",
    "    main()"
   ]
  },
  {
   "cell_type": "markdown",
   "metadata": {},
   "source": [
    "Теперь код будет успешно выполняться, но сейчас функция ничего не делает. В документации к функции явно указано, что ее надо реализовать. Такая функция называется заглушкой и широко используется в практике программирования.\n",
    "\n",
    "**Шаг №3**. Займемся реализацией функции. Предположим, что у нас написаны все необходимые функции, и напишем `calculate_salary` так:"
   ]
  },
  {
   "cell_type": "code",
   "execution_count": 5,
   "metadata": {
    "ExecuteTime": {
     "end_time": "2018-07-16T18:13:00.301984Z",
     "start_time": "2018-07-16T18:13:00.297413Z"
    }
   },
   "outputs": [],
   "source": [
    "def calculate_salary():\n",
    "    \"\"\"\n",
    "    Функция считает зарплату сотрудника ДПС, считывая исходные данные с клавиатуры.\n",
    "\n",
    "    :returns: Зарплата сотрудника\n",
    "    \"\"\"\n",
    "    sum_of_fines = 0\n",
    "    speed_of_car, number_of_car = read_data()\n",
    "    while not detect_chief(number_of_car):\n",
    "        if speed_of_car > 60:\n",
    "            sum_of_fines += calculate_fine(number_of_car)\n",
    "        speed_of_car, number_of_car = read_data()\n",
    "    return sum_of_fines"
   ]
  },
  {
   "cell_type": "markdown",
   "metadata": {},
   "source": [
    "Заметим, что в этом решении делегировано в отдельные функции всё, что только можно было делегировать. Разве что проверка превышения скорости осталась без собственной функции, но она уж и так слишком тривиальна.\n",
    "\n",
    "Заметим, что в групповой разработке ПО старший программист на этом завершил бы свою работу. Ему осталось только сформулировать для каждой из функций её заглушку и документирующий комментарий, раздать работу по написанию мелких функций младшим программистам и идти пить чай.\n",
    "\n",
    "**Шаг №4**. На данном этапе пропустим написание функций-заглушек и сразу приведём окончательное решение.\n",
    "Для тестирования программы введите: \n",
    "\n",
    "* 80 B100AA\n",
    "* 90 B110BB\n",
    "* 120 A555TT\n",
    "* 120 A999AA\n",
    "\n",
    "Результатом будет - 2000:"
   ]
  },
  {
   "cell_type": "code",
   "execution_count": 10,
   "metadata": {
    "ExecuteTime": {
     "end_time": "2018-07-16T18:20:13.158500Z",
     "start_time": "2018-07-16T18:19:05.957524Z"
    }
   },
   "outputs": [
    {
     "name": "stdout",
     "output_type": "stream",
     "text": [
      "80 B100AA\n",
      "90 B110BB\n",
      "120 A555TT\n",
      "120 A999AA\n",
      "2000\n"
     ]
    }
   ],
   "source": [
    "def main():\n",
    "    salary = calculate_salary()\n",
    "    print(salary)\n",
    "\n",
    "\n",
    "def calculate_salary():\n",
    "    \"\"\"\n",
    "    Считает зарплату сотрудника ДПС, считывая исходные данные с клавиатуры.\n",
    "\n",
    "    :returns: зарплата сотрудника\n",
    "    \"\"\"\n",
    "    sum_of_fines = 0\n",
    "    speed_of_car, number_of_car = read_data()\n",
    "    while not detect_chief(number_of_car):\n",
    "        if speed_of_car > 60:\n",
    "            sum_of_fines += calculate_fine(number_of_car)\n",
    "        speed_of_car, number_of_car = read_data()\n",
    "    return sum_of_fines\n",
    "    \n",
    "    \n",
    "def read_data():\n",
    "    \"\"\"\n",
    "    Считывает следущую строку данных.\n",
    "    \n",
    "    :returns: tuple(int, str) - скорость, номер машины\n",
    "    \"\"\"\n",
    "    data = input().split()\n",
    "    return int(data[0]), data[1]\n",
    "\n",
    "\n",
    "def detect_chief(number_of_car):\n",
    "    \"\"\"\n",
    "    Проверяет, принадлежит ли данный номер начальнику.\n",
    "    \n",
    "    :param number_of_car: номер автомобиля\n",
    "    :returns: True, если номер принадлежит начальнику, иначе False\n",
    "    \"\"\"\n",
    "    return number_of_car == \"A999AA\"\n",
    "\n",
    "\n",
    "def calculate_fine(number_of_car):\n",
    "    \"\"\"\n",
    "    Считает штраф для автомобиля с конкретным номером.\n",
    "    \n",
    "    :param number_of_car: номер автомобиля\n",
    "    :returns: Целое число, размер штрафа\n",
    "    \"\"\"\n",
    "    if is_super_number(number_of_car):\n",
    "        return 1000\n",
    "    elif is_good_number(number_of_car):\n",
    "        return 500\n",
    "    else:\n",
    "        return 100\n",
    "\n",
    "\n",
    "def is_super_number(number_of_car):\n",
    "    \"\"\"\n",
    "    Проверяет, является ли номер «крутым» (совпадение трёх цифр)\n",
    "    \n",
    "    :param number_of_car: номер автомобиля\n",
    "    :returns: True, если номер «крутой», иначе False\n",
    "    \"\"\"\n",
    "    return number_of_car[1] == number_of_car[2] == number_of_car[3]\n",
    "\n",
    "\n",
    "def is_good_number(number_of_car):\n",
    "    \"\"\"\n",
    "    Проверяет, является ли номер «хорошим» (совпадение двух цифр)\n",
    "    \n",
    "    :param number_of_car: номер автомобиля\n",
    "    :returns: True, если номер «хороший», иначе False\n",
    "    \"\"\"\n",
    "    return number_of_car[1] == number_of_car[2] or \\\n",
    "           number_of_car[1] == number_of_car[3] or \\\n",
    "           number_of_car[2] == number_of_car[3]\n",
    "\n",
    "\n",
    "if __name__ == \"__main__\":\n",
    "    main()"
   ]
  },
  {
   "cell_type": "markdown",
   "metadata": {},
   "source": [
    "## Выводы\n",
    "\n",
    "Обычно перед использованием функции сначала реализуют ее. Мы же сейчас делали все наоборот. Сначала использовали функцию, потом писали для нее заглушку и только вконце дописывали реализацию. В этом и заключается процесс проектирования \"сверху вниз\"."
   ]
  }
 ],
 "metadata": {
  "kernelspec": {
   "display_name": "Python 3",
   "language": "python",
   "name": "python3"
  },
  "language_info": {
   "codemirror_mode": {
    "name": "ipython",
    "version": 3
   },
   "file_extension": ".py",
   "mimetype": "text/x-python",
   "name": "python",
   "nbconvert_exporter": "python",
   "pygments_lexer": "ipython3",
   "version": "3.6.5"
  },
  "toc": {
   "base_numbering": 1,
   "nav_menu": {},
   "number_sections": true,
   "sideBar": false,
   "skip_h1_title": true,
   "title_cell": "Table of Contents",
   "title_sidebar": "Contents",
   "toc_cell": false,
   "toc_position": {},
   "toc_section_display": true,
   "toc_window_display": true
  }
 },
 "nbformat": 4,
 "nbformat_minor": 2
}
