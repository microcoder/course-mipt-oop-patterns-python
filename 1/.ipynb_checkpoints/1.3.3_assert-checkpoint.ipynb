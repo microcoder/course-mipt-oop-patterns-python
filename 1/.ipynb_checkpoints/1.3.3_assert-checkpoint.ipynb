{
 "cells": [
  {
   "cell_type": "markdown",
   "metadata": {},
   "source": [
    "# Утверждения `assert`\n",
    "\n",
    "## Для чего нужны утверждения\n",
    "\n",
    "На практике абсолютно все программы содержат ошибки, разница лишь в том, насколько часто они проявляются и насколько критичны их последствия. При этом важным становится **обнаружить ошибку как можно скорее**.\n",
    "\n",
    "Утверждения — это один из самых быстрых способов для обнаружения ошибок.\n",
    "\n",
    "С другой стороны, они документируют внутреннюю работу программы и повышают её ремонтопригодность. Они делают предположения программиста, создающего код, *явными* для всех, кто читает его код.\n",
    "\n",
    "## Формы оператора `assert`\n",
    "\n",
    "Оператор `assert` имеет две формы. Первая, более простая форма:\n",
    "\n",
    "````python\n",
    "assert condition\n",
    "````\n",
    "\n",
    "где *condition* — это логическое выражение, которое, по вашему мнению, будет верным в момент выполнения. Если во время выполнения кода оно окажется ложным, система выбросит исключение. Проверяя, что логическое выражение на самом деле верно, инструкция `assert` подтверждает ваши ожидания от программы, увеличивая уверенность в том, что код не содержит ошибок.\n",
    "\n",
    "Программный эквивалент:\n",
    "\n",
    "````python\n",
    "if __debug__:\n",
    "    if not condition:\n",
    "        raise AssertionError()\n",
    "````\n",
    "\n",
    "Вторая форма утверждения — это:\n",
    "\n",
    "````python\n",
    "assert condition, message\n",
    "````\n",
    "\n",
    "Эта форма позволяет при сбое отобразить в сообщении состояние ключевых переменных, из-за которых и мог произойти сбой.\n",
    "\n",
    "Её программный эквивалент:\n",
    "\n",
    "````python\n",
    "if __debug__:\n",
    "    if not condition:\n",
    "        raise AssertionError(message)\n",
    "````\n",
    "\n",
    "Как и все необработанные исключения, сбои утверждений содержат трассировку стека (stack trace) с именем файла и номером строки, из которой они были брошены. Часто этого достаточно для диагностики ошибки.\n",
    "\n",
    "## Внедрение утверждений в код\n",
    "\n",
    "Пример для изолированной функции:\n",
    "\n",
    "````python\n",
    "def fibonacci(n):\n",
    "    assert n >= 0\n",
    "    F = [0, 1] + [0]*n\n",
    "    for i in range(2, n+1):\n",
    "        F[i] = F[i-1] + F[i-2]\n",
    "    assert F[n] >= 0 and F[n] == F[n-1] + F[n-2]\n",
    "    return F[n]\n",
    "````\n",
    "\n",
    "Пример для конструктора класса:\n",
    "\n",
    "````python\n",
    "class DateType:\n",
    "    def __init__(self, year=2000, month=1, day=1):\n",
    "        assert year >= 0 and year < 3000\n",
    "        assert month >= 1 and month <= 12 and day >= 1\n",
    "        assert day <= [31, 29, 31, 30, 31, 30, 31, 31, 30, 31, 30, 31][month-1]\n",
    "        self.year = year\n",
    "        self.month = month\n",
    "        self.day = day\n",
    "````\n",
    "\n",
    "## Отключение утверждений\n",
    "\n",
    "В некоторых случаях вычисление условия может быть слишком долгим. Например, проверка того, что массив действительно отсортирован, может занимать сравнимое время с самой сортировкой. В таком случае assert-ы могут быть отключены: тогда они эквивалентны пустому оператору и в семантике, и в производительности.\n",
    "\n",
    "Для этого следует запускать интерпретатор с опцией -O.\n",
    "\n",
    "## Адекватное использование утверждений\n",
    "\n",
    "Оператор `assert` служит для отлавливания невероятных, недопустимых ситуаций, которые могут возникнуть из-за внутренних ошибок в программе.\n",
    "\n",
    "Исключения `AssertionError` никогда не следует перехватывать! Они не должны быть использованы для отображения сообщений пользователю или обработки регулярно возникающей, \"нормальной\" исключительной ситуации. Их не следует использовать для индикации неверного ввода пользователя или ошибок операционной системы — для этого лучше использовать `raise AnyOtherException()`.\n",
    "\n",
    "Их используют для проверки:\n",
    "\n",
    "* параметров функции на их тип и значение (preconditions)\n",
    "* разумности возвращаемого значения функции (postconditions)\n",
    "* инвариантов (invariants)\n",
    "\n",
    "Поскольку элегантно проверять предусловия и постусловия можно при помощи PyContracts, главным адекватным вариантом использования `assert` становятся инварианты. Их проверка не менее важна для гарантии корректности кода, чем проверка предусловий и постусловий.\n",
    "\n",
    "## Виды инвариантов\n",
    "\n",
    "**Внутренний инвариант** (internal invariant) — это логическое выражение, выражающее уверенность программиста в значении некоторых переменных в некоторый момент выполнения программы.\n",
    "\n",
    "````python\n",
    "if x%3 == 0:\n",
    "    print(\"Число делится на три.\")\n",
    "elif x%3 == 1:\n",
    "    print(\"При делении на три остаток - один.\")\n",
    "else:\n",
    "    assert x%3 == 2  # assert здесь является комментарием, гарантирующим истинность утверждения\n",
    "    print(\"Остаток при делении на три - два.\")\n",
    "````\n",
    "\n",
    "Из внутренних инвариантов стоит выделить **инвариант цикла** — это логическое выражение, истинное после каждого прохода тела цикла и перед началом выполнения цикла, зависящее от переменных, изменяющихся в теле цикла.\n",
    "\n",
    "**Инвариант потока выполнения** (control-flow invariants) — выражает уверенность программиста в том как идёт поток выполнения. В том числе, что какой-то участок кода никогда не должен быть достигнут.\n",
    "\n",
    "````python\n",
    "def foo():\n",
    "    for ...:\n",
    "        if ...:\n",
    "            return ...\n",
    "    assert False  # Поток выполнения никогда не должен достигнуть этой строки!\n",
    "````\n",
    "\n",
    "**Инвариант класса** (class invariant) — это семантические свойства и ограничения целостности экземпляра класса. Например, объект календарной даты никогда не может находиться в состоянии 31 апреля или 30 февраля. Объект класса красно-чёрного дерева поиска в момент вызова любого его метода, как и по окончании, должен быть сбалансирован.\n",
    "\n",
    "## Контракты PyContracts\n",
    "\n",
    "Предусловия и постусловия удобно оформлять не через утверждения, а как контракт функции. Нам поможет декоратор `contract` из библиотеки PyContracts:"
   ]
  },
  {
   "cell_type": "code",
   "execution_count": 4,
   "metadata": {
    "ExecuteTime": {
     "end_time": "2018-07-17T19:30:29.770214Z",
     "start_time": "2018-07-17T19:30:27.390077Z"
    }
   },
   "outputs": [
    {
     "name": "stdout",
     "output_type": "stream",
     "text": [
      "Collecting PyContracts\n",
      "  Downloading https://files.pythonhosted.org/packages/16/f7/06a3fc92758cf288b9e0d09b0d0f18eff39970214775505d85c002277721/PyContracts-1.8.3.tar.gz (90kB)\n",
      "Requirement already satisfied: decorator in /usr/local/lib/python3.6/dist-packages (from PyContracts) (4.3.0)\n",
      "Collecting pyparsing (from PyContracts)\n",
      "  Downloading https://files.pythonhosted.org/packages/6a/8a/718fd7d3458f9fab8e67186b00abdd345b639976bc7fb3ae722e1b026a50/pyparsing-2.2.0-py2.py3-none-any.whl (56kB)\n",
      "Requirement already satisfied: six in /usr/lib/python3/dist-packages (from PyContracts) (1.11.0)\n",
      "Building wheels for collected packages: PyContracts\n",
      "  Running setup.py bdist_wheel for PyContracts: started\n",
      "  Running setup.py bdist_wheel for PyContracts: finished with status 'done'\n",
      "  Stored in directory: /home/ubuntu/.cache/pip/wheels/5c/d8/5f/da6368cc8d09b8c7bfa297e9db04ddc9cf6e8d4999e2c03396\n",
      "Successfully built PyContracts\n",
      "Installing collected packages: pyparsing, PyContracts\n",
      "Successfully installed PyContracts-1.8.3 pyparsing-2.2.0\n"
     ]
    }
   ],
   "source": [
    "%%bash\n",
    "\n",
    "python3 -m pip install --user PyContracts"
   ]
  },
  {
   "cell_type": "code",
   "execution_count": 1,
   "metadata": {
    "ExecuteTime": {
     "end_time": "2018-07-17T19:30:50.429075Z",
     "start_time": "2018-07-17T19:30:50.366472Z"
    }
   },
   "outputs": [],
   "source": [
    "from contracts import contract"
   ]
  },
  {
   "cell_type": "markdown",
   "metadata": {},
   "source": [
    "## Проверка предусловий\n",
    "\n",
    "Пример контракта с проверкой предусловий:"
   ]
  },
  {
   "cell_type": "code",
   "execution_count": 2,
   "metadata": {
    "ExecuteTime": {
     "end_time": "2018-07-17T19:33:00.018513Z",
     "start_time": "2018-07-17T19:33:00.008139Z"
    }
   },
   "outputs": [],
   "source": [
    "@contract(x='int,>=0')\n",
    "def f(x):\n",
    "    pass"
   ]
  },
  {
   "cell_type": "markdown",
   "metadata": {},
   "source": [
    "В этом случае вызов функции с недопустимым значением аргумента приведёт к исключению `ContractNotRespected`, а трассировка стека будет сопровождена следующей полезной информацией:"
   ]
  },
  {
   "cell_type": "code",
   "execution_count": 3,
   "metadata": {
    "ExecuteTime": {
     "end_time": "2018-07-17T19:33:34.582672Z",
     "start_time": "2018-07-17T19:33:34.528138Z"
    }
   },
   "outputs": [
    {
     "ename": "ContractNotRespected",
     "evalue": "Breach for argument 'x' to f().\nCondition -2 >= 0 not respected\nchecking: >=0       for value: Instance of <class 'int'>: -2   \nchecking: int,>=0   for value: Instance of <class 'int'>: -2   \nVariables bound in inner context:\n",
     "output_type": "error",
     "traceback": [
      "\u001b[0;31m---------------------------------------------------------------------------\u001b[0m",
      "\u001b[0;31mContractNotRespected\u001b[0m                      Traceback (most recent call last)",
      "\u001b[0;32m<ipython-input-3-b3c9e7a25a75>\u001b[0m in \u001b[0;36m<module>\u001b[0;34m()\u001b[0m\n\u001b[0;32m----> 1\u001b[0;31m \u001b[0mf\u001b[0m\u001b[0;34m(\u001b[0m\u001b[0;34m-\u001b[0m\u001b[0;36m2\u001b[0m\u001b[0;34m)\u001b[0m\u001b[0;34m\u001b[0m\u001b[0m\n\u001b[0m",
      "\u001b[0;32m<decorator-gen-125>\u001b[0m in \u001b[0;36mf\u001b[0;34m(x)\u001b[0m\n",
      "\u001b[0;32m~/.local/lib/python3.6/site-packages/contracts/main.py\u001b[0m in \u001b[0;36mcontracts_checker\u001b[0;34m(unused, *args, **kwargs)\u001b[0m\n\u001b[1;32m    258\u001b[0m                            % (arg, get_nice_function_display()))\n\u001b[1;32m    259\u001b[0m                     \u001b[0me\u001b[0m\u001b[0;34m.\u001b[0m\u001b[0merror\u001b[0m \u001b[0;34m=\u001b[0m \u001b[0mmsg\u001b[0m \u001b[0;34m+\u001b[0m \u001b[0me\u001b[0m\u001b[0;34m.\u001b[0m\u001b[0merror\u001b[0m\u001b[0;34m\u001b[0m\u001b[0m\n\u001b[0;32m--> 260\u001b[0;31m                     \u001b[0;32mraise\u001b[0m \u001b[0me\u001b[0m\u001b[0;34m\u001b[0m\u001b[0m\n\u001b[0m\u001b[1;32m    261\u001b[0m \u001b[0;34m\u001b[0m\u001b[0m\n\u001b[1;32m    262\u001b[0m         \u001b[0mresult\u001b[0m \u001b[0;34m=\u001b[0m \u001b[0mfunction_\u001b[0m\u001b[0;34m(\u001b[0m\u001b[0;34m*\u001b[0m\u001b[0margs\u001b[0m\u001b[0;34m,\u001b[0m \u001b[0;34m**\u001b[0m\u001b[0mkwargs\u001b[0m\u001b[0;34m)\u001b[0m\u001b[0;34m\u001b[0m\u001b[0m\n",
      "\u001b[0;32m~/.local/lib/python3.6/site-packages/contracts/main.py\u001b[0m in \u001b[0;36mcontracts_checker\u001b[0;34m(unused, *args, **kwargs)\u001b[0m\n\u001b[1;32m    253\u001b[0m             \u001b[0;32mif\u001b[0m \u001b[0marg\u001b[0m \u001b[0;32min\u001b[0m \u001b[0maccepts_parsed\u001b[0m\u001b[0;34m:\u001b[0m\u001b[0;34m\u001b[0m\u001b[0m\n\u001b[1;32m    254\u001b[0m                 \u001b[0;32mtry\u001b[0m\u001b[0;34m:\u001b[0m\u001b[0;34m\u001b[0m\u001b[0m\n\u001b[0;32m--> 255\u001b[0;31m                     \u001b[0maccepts_parsed\u001b[0m\u001b[0;34m[\u001b[0m\u001b[0marg\u001b[0m\u001b[0;34m]\u001b[0m\u001b[0;34m.\u001b[0m\u001b[0m_check_contract\u001b[0m\u001b[0;34m(\u001b[0m\u001b[0mcontext\u001b[0m\u001b[0;34m,\u001b[0m \u001b[0mbound\u001b[0m\u001b[0;34m[\u001b[0m\u001b[0marg\u001b[0m\u001b[0;34m]\u001b[0m\u001b[0;34m,\u001b[0m \u001b[0msilent\u001b[0m\u001b[0;34m=\u001b[0m\u001b[0;32mFalse\u001b[0m\u001b[0;34m)\u001b[0m\u001b[0;34m\u001b[0m\u001b[0m\n\u001b[0m\u001b[1;32m    256\u001b[0m                 \u001b[0;32mexcept\u001b[0m \u001b[0mContractNotRespected\u001b[0m \u001b[0;32mas\u001b[0m \u001b[0me\u001b[0m\u001b[0;34m:\u001b[0m\u001b[0;34m\u001b[0m\u001b[0m\n\u001b[1;32m    257\u001b[0m                     msg = ('Breach for argument %r to %s.\\n'\n",
      "\u001b[0;32m~/.local/lib/python3.6/site-packages/contracts/interface.py\u001b[0m in \u001b[0;36m_check_contract\u001b[0;34m(self, context, value, silent)\u001b[0m\n\u001b[1;32m    437\u001b[0m         \u001b[0mvariables\u001b[0m \u001b[0;34m=\u001b[0m \u001b[0mcontext\u001b[0m\u001b[0;34m.\u001b[0m\u001b[0mcopy\u001b[0m\u001b[0;34m(\u001b[0m\u001b[0;34m)\u001b[0m\u001b[0;34m\u001b[0m\u001b[0m\n\u001b[1;32m    438\u001b[0m         \u001b[0;32mtry\u001b[0m\u001b[0;34m:\u001b[0m\u001b[0;34m\u001b[0m\u001b[0m\n\u001b[0;32m--> 439\u001b[0;31m             \u001b[0mself\u001b[0m\u001b[0;34m.\u001b[0m\u001b[0mcheck_contract\u001b[0m\u001b[0;34m(\u001b[0m\u001b[0mcontext\u001b[0m\u001b[0;34m,\u001b[0m \u001b[0mvalue\u001b[0m\u001b[0;34m,\u001b[0m \u001b[0msilent\u001b[0m\u001b[0;34m)\u001b[0m\u001b[0;34m\u001b[0m\u001b[0m\n\u001b[0m\u001b[1;32m    440\u001b[0m         \u001b[0;32mexcept\u001b[0m \u001b[0mContractNotRespected\u001b[0m \u001b[0;32mas\u001b[0m \u001b[0me\u001b[0m\u001b[0;34m:\u001b[0m\u001b[0;34m\u001b[0m\u001b[0m\n\u001b[1;32m    441\u001b[0m             \u001b[0me\u001b[0m\u001b[0;34m.\u001b[0m\u001b[0mstack\u001b[0m\u001b[0;34m.\u001b[0m\u001b[0mappend\u001b[0m\u001b[0;34m(\u001b[0m\u001b[0;34m(\u001b[0m\u001b[0mself\u001b[0m\u001b[0;34m,\u001b[0m \u001b[0mvariables\u001b[0m\u001b[0;34m,\u001b[0m \u001b[0mvalue\u001b[0m\u001b[0;34m)\u001b[0m\u001b[0;34m)\u001b[0m\u001b[0;34m\u001b[0m\u001b[0m\n",
      "\u001b[0;32m~/.local/lib/python3.6/site-packages/contracts/library/compositions.py\u001b[0m in \u001b[0;36mcheck_contract\u001b[0;34m(self, context, value, silent)\u001b[0m\n\u001b[1;32m    121\u001b[0m     \u001b[0;32mdef\u001b[0m \u001b[0mcheck_contract\u001b[0m\u001b[0;34m(\u001b[0m\u001b[0mself\u001b[0m\u001b[0;34m,\u001b[0m \u001b[0mcontext\u001b[0m\u001b[0;34m,\u001b[0m \u001b[0mvalue\u001b[0m\u001b[0;34m,\u001b[0m \u001b[0msilent\u001b[0m\u001b[0;34m)\u001b[0m\u001b[0;34m:\u001b[0m\u001b[0;34m\u001b[0m\u001b[0m\n\u001b[1;32m    122\u001b[0m         \u001b[0;32mfor\u001b[0m \u001b[0mc\u001b[0m \u001b[0;32min\u001b[0m \u001b[0mself\u001b[0m\u001b[0;34m.\u001b[0m\u001b[0mclauses\u001b[0m\u001b[0;34m:\u001b[0m\u001b[0;34m\u001b[0m\u001b[0m\n\u001b[0;32m--> 123\u001b[0;31m             \u001b[0mc\u001b[0m\u001b[0;34m.\u001b[0m\u001b[0m_check_contract\u001b[0m\u001b[0;34m(\u001b[0m\u001b[0mcontext\u001b[0m\u001b[0;34m,\u001b[0m \u001b[0mvalue\u001b[0m\u001b[0;34m,\u001b[0m \u001b[0msilent\u001b[0m\u001b[0;34m)\u001b[0m\u001b[0;34m\u001b[0m\u001b[0m\n\u001b[0m\u001b[1;32m    124\u001b[0m \u001b[0;34m\u001b[0m\u001b[0m\n\u001b[1;32m    125\u001b[0m     \u001b[0;32mdef\u001b[0m \u001b[0m__repr__\u001b[0m\u001b[0;34m(\u001b[0m\u001b[0mself\u001b[0m\u001b[0;34m)\u001b[0m\u001b[0;34m:\u001b[0m\u001b[0;34m\u001b[0m\u001b[0m\n",
      "\u001b[0;32m~/.local/lib/python3.6/site-packages/contracts/interface.py\u001b[0m in \u001b[0;36m_check_contract\u001b[0;34m(self, context, value, silent)\u001b[0m\n\u001b[1;32m    437\u001b[0m         \u001b[0mvariables\u001b[0m \u001b[0;34m=\u001b[0m \u001b[0mcontext\u001b[0m\u001b[0;34m.\u001b[0m\u001b[0mcopy\u001b[0m\u001b[0;34m(\u001b[0m\u001b[0;34m)\u001b[0m\u001b[0;34m\u001b[0m\u001b[0m\n\u001b[1;32m    438\u001b[0m         \u001b[0;32mtry\u001b[0m\u001b[0;34m:\u001b[0m\u001b[0;34m\u001b[0m\u001b[0m\n\u001b[0;32m--> 439\u001b[0;31m             \u001b[0mself\u001b[0m\u001b[0;34m.\u001b[0m\u001b[0mcheck_contract\u001b[0m\u001b[0;34m(\u001b[0m\u001b[0mcontext\u001b[0m\u001b[0;34m,\u001b[0m \u001b[0mvalue\u001b[0m\u001b[0;34m,\u001b[0m \u001b[0msilent\u001b[0m\u001b[0;34m)\u001b[0m\u001b[0;34m\u001b[0m\u001b[0m\n\u001b[0m\u001b[1;32m    440\u001b[0m         \u001b[0;32mexcept\u001b[0m \u001b[0mContractNotRespected\u001b[0m \u001b[0;32mas\u001b[0m \u001b[0me\u001b[0m\u001b[0;34m:\u001b[0m\u001b[0;34m\u001b[0m\u001b[0m\n\u001b[1;32m    441\u001b[0m             \u001b[0me\u001b[0m\u001b[0;34m.\u001b[0m\u001b[0mstack\u001b[0m\u001b[0;34m.\u001b[0m\u001b[0mappend\u001b[0m\u001b[0;34m(\u001b[0m\u001b[0;34m(\u001b[0m\u001b[0mself\u001b[0m\u001b[0;34m,\u001b[0m \u001b[0mvariables\u001b[0m\u001b[0;34m,\u001b[0m \u001b[0mvalue\u001b[0m\u001b[0;34m)\u001b[0m\u001b[0;34m)\u001b[0m\u001b[0;34m\u001b[0m\u001b[0m\n",
      "\u001b[0;32m~/.local/lib/python3.6/site-packages/contracts/library/comparison.py\u001b[0m in \u001b[0;36mcheck_contract\u001b[0;34m(self, context, value, silent)\u001b[0m\n\u001b[1;32m     85\u001b[0m \u001b[0;34m\u001b[0m\u001b[0m\n\u001b[1;32m     86\u001b[0m             raise ContractNotRespected(contract=self, error=error,\n\u001b[0;32m---> 87\u001b[0;31m                                        value=value, context=context)\n\u001b[0m\u001b[1;32m     88\u001b[0m \u001b[0;34m\u001b[0m\u001b[0m\n\u001b[1;32m     89\u001b[0m     \u001b[0;32mdef\u001b[0m \u001b[0m__str__\u001b[0m\u001b[0;34m(\u001b[0m\u001b[0mself\u001b[0m\u001b[0;34m)\u001b[0m\u001b[0;34m:\u001b[0m\u001b[0;34m\u001b[0m\u001b[0m\n",
      "\u001b[0;31mContractNotRespected\u001b[0m: Breach for argument 'x' to f().\nCondition -2 >= 0 not respected\nchecking: >=0       for value: Instance of <class 'int'>: -2   \nchecking: int,>=0   for value: Instance of <class 'int'>: -2   \nVariables bound in inner context:\n"
     ]
    }
   ],
   "source": [
    "f(-2)"
   ]
  },
  {
   "cell_type": "markdown",
   "metadata": {},
   "source": [
    "Или такой:"
   ]
  },
  {
   "cell_type": "code",
   "execution_count": 4,
   "metadata": {
    "ExecuteTime": {
     "end_time": "2018-07-17T19:34:33.211733Z",
     "start_time": "2018-07-17T19:34:33.192455Z"
    }
   },
   "outputs": [
    {
     "ename": "ContractNotRespected",
     "evalue": "Breach for argument 'x' to f().\nExpected type 'int', got <class 'str'>.\nchecking: Int       for value: Instance of <class 'str'>: 'Hello'   \nchecking: $(Int)    for value: Instance of <class 'str'>: 'Hello'   \nchecking: int       for value: Instance of <class 'str'>: 'Hello'   \nchecking: int,>=0   for value: Instance of <class 'str'>: 'Hello'   \nVariables bound in inner context:\n",
     "output_type": "error",
     "traceback": [
      "\u001b[0;31m---------------------------------------------------------------------------\u001b[0m",
      "\u001b[0;31mContractNotRespected\u001b[0m                      Traceback (most recent call last)",
      "\u001b[0;32m<ipython-input-4-82f5cf4ffef9>\u001b[0m in \u001b[0;36m<module>\u001b[0;34m()\u001b[0m\n\u001b[0;32m----> 1\u001b[0;31m \u001b[0mf\u001b[0m\u001b[0;34m(\u001b[0m\u001b[0;34m\"Hello\"\u001b[0m\u001b[0;34m)\u001b[0m\u001b[0;34m\u001b[0m\u001b[0m\n\u001b[0m",
      "\u001b[0;32m<decorator-gen-125>\u001b[0m in \u001b[0;36mf\u001b[0;34m(x)\u001b[0m\n",
      "\u001b[0;32m~/.local/lib/python3.6/site-packages/contracts/main.py\u001b[0m in \u001b[0;36mcontracts_checker\u001b[0;34m(unused, *args, **kwargs)\u001b[0m\n\u001b[1;32m    258\u001b[0m                            % (arg, get_nice_function_display()))\n\u001b[1;32m    259\u001b[0m                     \u001b[0me\u001b[0m\u001b[0;34m.\u001b[0m\u001b[0merror\u001b[0m \u001b[0;34m=\u001b[0m \u001b[0mmsg\u001b[0m \u001b[0;34m+\u001b[0m \u001b[0me\u001b[0m\u001b[0;34m.\u001b[0m\u001b[0merror\u001b[0m\u001b[0;34m\u001b[0m\u001b[0m\n\u001b[0;32m--> 260\u001b[0;31m                     \u001b[0;32mraise\u001b[0m \u001b[0me\u001b[0m\u001b[0;34m\u001b[0m\u001b[0m\n\u001b[0m\u001b[1;32m    261\u001b[0m \u001b[0;34m\u001b[0m\u001b[0m\n\u001b[1;32m    262\u001b[0m         \u001b[0mresult\u001b[0m \u001b[0;34m=\u001b[0m \u001b[0mfunction_\u001b[0m\u001b[0;34m(\u001b[0m\u001b[0;34m*\u001b[0m\u001b[0margs\u001b[0m\u001b[0;34m,\u001b[0m \u001b[0;34m**\u001b[0m\u001b[0mkwargs\u001b[0m\u001b[0;34m)\u001b[0m\u001b[0;34m\u001b[0m\u001b[0m\n",
      "\u001b[0;32m~/.local/lib/python3.6/site-packages/contracts/main.py\u001b[0m in \u001b[0;36mcontracts_checker\u001b[0;34m(unused, *args, **kwargs)\u001b[0m\n\u001b[1;32m    253\u001b[0m             \u001b[0;32mif\u001b[0m \u001b[0marg\u001b[0m \u001b[0;32min\u001b[0m \u001b[0maccepts_parsed\u001b[0m\u001b[0;34m:\u001b[0m\u001b[0;34m\u001b[0m\u001b[0m\n\u001b[1;32m    254\u001b[0m                 \u001b[0;32mtry\u001b[0m\u001b[0;34m:\u001b[0m\u001b[0;34m\u001b[0m\u001b[0m\n\u001b[0;32m--> 255\u001b[0;31m                     \u001b[0maccepts_parsed\u001b[0m\u001b[0;34m[\u001b[0m\u001b[0marg\u001b[0m\u001b[0;34m]\u001b[0m\u001b[0;34m.\u001b[0m\u001b[0m_check_contract\u001b[0m\u001b[0;34m(\u001b[0m\u001b[0mcontext\u001b[0m\u001b[0;34m,\u001b[0m \u001b[0mbound\u001b[0m\u001b[0;34m[\u001b[0m\u001b[0marg\u001b[0m\u001b[0;34m]\u001b[0m\u001b[0;34m,\u001b[0m \u001b[0msilent\u001b[0m\u001b[0;34m=\u001b[0m\u001b[0;32mFalse\u001b[0m\u001b[0;34m)\u001b[0m\u001b[0;34m\u001b[0m\u001b[0m\n\u001b[0m\u001b[1;32m    256\u001b[0m                 \u001b[0;32mexcept\u001b[0m \u001b[0mContractNotRespected\u001b[0m \u001b[0;32mas\u001b[0m \u001b[0me\u001b[0m\u001b[0;34m:\u001b[0m\u001b[0;34m\u001b[0m\u001b[0m\n\u001b[1;32m    257\u001b[0m                     msg = ('Breach for argument %r to %s.\\n'\n",
      "\u001b[0;32m~/.local/lib/python3.6/site-packages/contracts/interface.py\u001b[0m in \u001b[0;36m_check_contract\u001b[0;34m(self, context, value, silent)\u001b[0m\n\u001b[1;32m    437\u001b[0m         \u001b[0mvariables\u001b[0m \u001b[0;34m=\u001b[0m \u001b[0mcontext\u001b[0m\u001b[0;34m.\u001b[0m\u001b[0mcopy\u001b[0m\u001b[0;34m(\u001b[0m\u001b[0;34m)\u001b[0m\u001b[0;34m\u001b[0m\u001b[0m\n\u001b[1;32m    438\u001b[0m         \u001b[0;32mtry\u001b[0m\u001b[0;34m:\u001b[0m\u001b[0;34m\u001b[0m\u001b[0m\n\u001b[0;32m--> 439\u001b[0;31m             \u001b[0mself\u001b[0m\u001b[0;34m.\u001b[0m\u001b[0mcheck_contract\u001b[0m\u001b[0;34m(\u001b[0m\u001b[0mcontext\u001b[0m\u001b[0;34m,\u001b[0m \u001b[0mvalue\u001b[0m\u001b[0;34m,\u001b[0m \u001b[0msilent\u001b[0m\u001b[0;34m)\u001b[0m\u001b[0;34m\u001b[0m\u001b[0m\n\u001b[0m\u001b[1;32m    440\u001b[0m         \u001b[0;32mexcept\u001b[0m \u001b[0mContractNotRespected\u001b[0m \u001b[0;32mas\u001b[0m \u001b[0me\u001b[0m\u001b[0;34m:\u001b[0m\u001b[0;34m\u001b[0m\u001b[0m\n\u001b[1;32m    441\u001b[0m             \u001b[0me\u001b[0m\u001b[0;34m.\u001b[0m\u001b[0mstack\u001b[0m\u001b[0;34m.\u001b[0m\u001b[0mappend\u001b[0m\u001b[0;34m(\u001b[0m\u001b[0;34m(\u001b[0m\u001b[0mself\u001b[0m\u001b[0;34m,\u001b[0m \u001b[0mvariables\u001b[0m\u001b[0;34m,\u001b[0m \u001b[0mvalue\u001b[0m\u001b[0;34m)\u001b[0m\u001b[0;34m)\u001b[0m\u001b[0;34m\u001b[0m\u001b[0m\n",
      "\u001b[0;32m~/.local/lib/python3.6/site-packages/contracts/library/compositions.py\u001b[0m in \u001b[0;36mcheck_contract\u001b[0;34m(self, context, value, silent)\u001b[0m\n\u001b[1;32m    121\u001b[0m     \u001b[0;32mdef\u001b[0m \u001b[0mcheck_contract\u001b[0m\u001b[0;34m(\u001b[0m\u001b[0mself\u001b[0m\u001b[0;34m,\u001b[0m \u001b[0mcontext\u001b[0m\u001b[0;34m,\u001b[0m \u001b[0mvalue\u001b[0m\u001b[0;34m,\u001b[0m \u001b[0msilent\u001b[0m\u001b[0;34m)\u001b[0m\u001b[0;34m:\u001b[0m\u001b[0;34m\u001b[0m\u001b[0m\n\u001b[1;32m    122\u001b[0m         \u001b[0;32mfor\u001b[0m \u001b[0mc\u001b[0m \u001b[0;32min\u001b[0m \u001b[0mself\u001b[0m\u001b[0;34m.\u001b[0m\u001b[0mclauses\u001b[0m\u001b[0;34m:\u001b[0m\u001b[0;34m\u001b[0m\u001b[0m\n\u001b[0;32m--> 123\u001b[0;31m             \u001b[0mc\u001b[0m\u001b[0;34m.\u001b[0m\u001b[0m_check_contract\u001b[0m\u001b[0;34m(\u001b[0m\u001b[0mcontext\u001b[0m\u001b[0;34m,\u001b[0m \u001b[0mvalue\u001b[0m\u001b[0;34m,\u001b[0m \u001b[0msilent\u001b[0m\u001b[0;34m)\u001b[0m\u001b[0;34m\u001b[0m\u001b[0m\n\u001b[0m\u001b[1;32m    124\u001b[0m \u001b[0;34m\u001b[0m\u001b[0m\n\u001b[1;32m    125\u001b[0m     \u001b[0;32mdef\u001b[0m \u001b[0m__repr__\u001b[0m\u001b[0;34m(\u001b[0m\u001b[0mself\u001b[0m\u001b[0;34m)\u001b[0m\u001b[0;34m:\u001b[0m\u001b[0;34m\u001b[0m\u001b[0m\n",
      "\u001b[0;32m~/.local/lib/python3.6/site-packages/contracts/interface.py\u001b[0m in \u001b[0;36m_check_contract\u001b[0;34m(self, context, value, silent)\u001b[0m\n\u001b[1;32m    437\u001b[0m         \u001b[0mvariables\u001b[0m \u001b[0;34m=\u001b[0m \u001b[0mcontext\u001b[0m\u001b[0;34m.\u001b[0m\u001b[0mcopy\u001b[0m\u001b[0;34m(\u001b[0m\u001b[0;34m)\u001b[0m\u001b[0;34m\u001b[0m\u001b[0m\n\u001b[1;32m    438\u001b[0m         \u001b[0;32mtry\u001b[0m\u001b[0;34m:\u001b[0m\u001b[0;34m\u001b[0m\u001b[0m\n\u001b[0;32m--> 439\u001b[0;31m             \u001b[0mself\u001b[0m\u001b[0;34m.\u001b[0m\u001b[0mcheck_contract\u001b[0m\u001b[0;34m(\u001b[0m\u001b[0mcontext\u001b[0m\u001b[0;34m,\u001b[0m \u001b[0mvalue\u001b[0m\u001b[0;34m,\u001b[0m \u001b[0msilent\u001b[0m\u001b[0;34m)\u001b[0m\u001b[0;34m\u001b[0m\u001b[0m\n\u001b[0m\u001b[1;32m    440\u001b[0m         \u001b[0;32mexcept\u001b[0m \u001b[0mContractNotRespected\u001b[0m \u001b[0;32mas\u001b[0m \u001b[0me\u001b[0m\u001b[0;34m:\u001b[0m\u001b[0;34m\u001b[0m\u001b[0m\n\u001b[1;32m    441\u001b[0m             \u001b[0me\u001b[0m\u001b[0;34m.\u001b[0m\u001b[0mstack\u001b[0m\u001b[0;34m.\u001b[0m\u001b[0mappend\u001b[0m\u001b[0;34m(\u001b[0m\u001b[0;34m(\u001b[0m\u001b[0mself\u001b[0m\u001b[0;34m,\u001b[0m \u001b[0mvariables\u001b[0m\u001b[0;34m,\u001b[0m \u001b[0mvalue\u001b[0m\u001b[0;34m)\u001b[0m\u001b[0;34m)\u001b[0m\u001b[0;34m\u001b[0m\u001b[0m\n",
      "\u001b[0;32m~/.local/lib/python3.6/site-packages/contracts/library/extensions.py\u001b[0m in \u001b[0;36mcheck_contract\u001b[0;34m(self, context, value, silent)\u001b[0m\n\u001b[1;32m     46\u001b[0m                                  k, v in self.kwargs.items())\n\u001b[1;32m     47\u001b[0m \u001b[0;34m\u001b[0m\u001b[0m\n\u001b[0;32m---> 48\u001b[0;31m         \u001b[0mself\u001b[0m\u001b[0;34m.\u001b[0m\u001b[0mcontract\u001b[0m\u001b[0;34m.\u001b[0m\u001b[0m_check_contract\u001b[0m\u001b[0;34m(\u001b[0m\u001b[0mcontext\u001b[0m\u001b[0;34m,\u001b[0m \u001b[0mvalue\u001b[0m\u001b[0;34m,\u001b[0m \u001b[0msilent\u001b[0m\u001b[0;34m)\u001b[0m\u001b[0;34m\u001b[0m\u001b[0m\n\u001b[0m\u001b[1;32m     49\u001b[0m \u001b[0;34m\u001b[0m\u001b[0m\n\u001b[1;32m     50\u001b[0m     \u001b[0;34m@\u001b[0m\u001b[0mstaticmethod\u001b[0m\u001b[0;34m\u001b[0m\u001b[0m\n",
      "\u001b[0;32m~/.local/lib/python3.6/site-packages/contracts/interface.py\u001b[0m in \u001b[0;36m_check_contract\u001b[0;34m(self, context, value, silent)\u001b[0m\n\u001b[1;32m    437\u001b[0m         \u001b[0mvariables\u001b[0m \u001b[0;34m=\u001b[0m \u001b[0mcontext\u001b[0m\u001b[0;34m.\u001b[0m\u001b[0mcopy\u001b[0m\u001b[0;34m(\u001b[0m\u001b[0;34m)\u001b[0m\u001b[0;34m\u001b[0m\u001b[0m\n\u001b[1;32m    438\u001b[0m         \u001b[0;32mtry\u001b[0m\u001b[0;34m:\u001b[0m\u001b[0;34m\u001b[0m\u001b[0m\n\u001b[0;32m--> 439\u001b[0;31m             \u001b[0mself\u001b[0m\u001b[0;34m.\u001b[0m\u001b[0mcheck_contract\u001b[0m\u001b[0;34m(\u001b[0m\u001b[0mcontext\u001b[0m\u001b[0;34m,\u001b[0m \u001b[0mvalue\u001b[0m\u001b[0;34m,\u001b[0m \u001b[0msilent\u001b[0m\u001b[0;34m)\u001b[0m\u001b[0;34m\u001b[0m\u001b[0m\n\u001b[0m\u001b[1;32m    440\u001b[0m         \u001b[0;32mexcept\u001b[0m \u001b[0mContractNotRespected\u001b[0m \u001b[0;32mas\u001b[0m \u001b[0me\u001b[0m\u001b[0;34m:\u001b[0m\u001b[0;34m\u001b[0m\u001b[0m\n\u001b[1;32m    441\u001b[0m             \u001b[0me\u001b[0m\u001b[0;34m.\u001b[0m\u001b[0mstack\u001b[0m\u001b[0;34m.\u001b[0m\u001b[0mappend\u001b[0m\u001b[0;34m(\u001b[0m\u001b[0;34m(\u001b[0m\u001b[0mself\u001b[0m\u001b[0;34m,\u001b[0m \u001b[0mvariables\u001b[0m\u001b[0;34m,\u001b[0m \u001b[0mvalue\u001b[0m\u001b[0;34m)\u001b[0m\u001b[0;34m)\u001b[0m\u001b[0;34m\u001b[0m\u001b[0m\n",
      "\u001b[0;32m~/.local/lib/python3.6/site-packages/contracts/library/separate_context.py\u001b[0m in \u001b[0;36mcheck_contract\u001b[0;34m(self, context, value, silent)\u001b[0m\n\u001b[1;32m     12\u001b[0m     \u001b[0;32mdef\u001b[0m \u001b[0mcheck_contract\u001b[0m\u001b[0;34m(\u001b[0m\u001b[0mself\u001b[0m\u001b[0;34m,\u001b[0m \u001b[0mcontext\u001b[0m\u001b[0;34m,\u001b[0m \u001b[0mvalue\u001b[0m\u001b[0;34m,\u001b[0m \u001b[0msilent\u001b[0m\u001b[0;34m)\u001b[0m\u001b[0;34m:\u001b[0m\u001b[0;34m\u001b[0m\u001b[0m\n\u001b[1;32m     13\u001b[0m         \u001b[0mcopy\u001b[0m \u001b[0;34m=\u001b[0m \u001b[0mcontext\u001b[0m\u001b[0;34m.\u001b[0m\u001b[0mcopy\u001b[0m\u001b[0;34m(\u001b[0m\u001b[0;34m)\u001b[0m\u001b[0;34m\u001b[0m\u001b[0m\n\u001b[0;32m---> 14\u001b[0;31m         \u001b[0mself\u001b[0m\u001b[0;34m.\u001b[0m\u001b[0mcontract\u001b[0m\u001b[0;34m.\u001b[0m\u001b[0m_check_contract\u001b[0m\u001b[0;34m(\u001b[0m\u001b[0mcopy\u001b[0m\u001b[0;34m,\u001b[0m \u001b[0mvalue\u001b[0m\u001b[0;34m,\u001b[0m \u001b[0msilent\u001b[0m\u001b[0;34m)\u001b[0m\u001b[0;34m\u001b[0m\u001b[0m\n\u001b[0m\u001b[1;32m     15\u001b[0m \u001b[0;34m\u001b[0m\u001b[0m\n\u001b[1;32m     16\u001b[0m     \u001b[0;32mdef\u001b[0m \u001b[0m__str__\u001b[0m\u001b[0;34m(\u001b[0m\u001b[0mself\u001b[0m\u001b[0;34m)\u001b[0m\u001b[0;34m:\u001b[0m\u001b[0;34m\u001b[0m\u001b[0m\n",
      "\u001b[0;32m~/.local/lib/python3.6/site-packages/contracts/interface.py\u001b[0m in \u001b[0;36m_check_contract\u001b[0;34m(self, context, value, silent)\u001b[0m\n\u001b[1;32m    437\u001b[0m         \u001b[0mvariables\u001b[0m \u001b[0;34m=\u001b[0m \u001b[0mcontext\u001b[0m\u001b[0;34m.\u001b[0m\u001b[0mcopy\u001b[0m\u001b[0;34m(\u001b[0m\u001b[0;34m)\u001b[0m\u001b[0;34m\u001b[0m\u001b[0m\n\u001b[1;32m    438\u001b[0m         \u001b[0;32mtry\u001b[0m\u001b[0;34m:\u001b[0m\u001b[0;34m\u001b[0m\u001b[0m\n\u001b[0;32m--> 439\u001b[0;31m             \u001b[0mself\u001b[0m\u001b[0;34m.\u001b[0m\u001b[0mcheck_contract\u001b[0m\u001b[0;34m(\u001b[0m\u001b[0mcontext\u001b[0m\u001b[0;34m,\u001b[0m \u001b[0mvalue\u001b[0m\u001b[0;34m,\u001b[0m \u001b[0msilent\u001b[0m\u001b[0;34m)\u001b[0m\u001b[0;34m\u001b[0m\u001b[0m\n\u001b[0m\u001b[1;32m    440\u001b[0m         \u001b[0;32mexcept\u001b[0m \u001b[0mContractNotRespected\u001b[0m \u001b[0;32mas\u001b[0m \u001b[0me\u001b[0m\u001b[0;34m:\u001b[0m\u001b[0;34m\u001b[0m\u001b[0m\n\u001b[1;32m    441\u001b[0m             \u001b[0me\u001b[0m\u001b[0;34m.\u001b[0m\u001b[0mstack\u001b[0m\u001b[0;34m.\u001b[0m\u001b[0mappend\u001b[0m\u001b[0;34m(\u001b[0m\u001b[0;34m(\u001b[0m\u001b[0mself\u001b[0m\u001b[0;34m,\u001b[0m \u001b[0mvariables\u001b[0m\u001b[0;34m,\u001b[0m \u001b[0mvalue\u001b[0m\u001b[0;34m)\u001b[0m\u001b[0;34m)\u001b[0m\u001b[0;34m\u001b[0m\u001b[0m\n",
      "\u001b[0;32m~/.local/lib/python3.6/site-packages/contracts/library/types_misc.py\u001b[0m in \u001b[0;36mcheck_contract\u001b[0;34m(self, context, value, silent)\u001b[0m\n\u001b[1;32m     23\u001b[0m                                                    describe_type(value))\n\u001b[1;32m     24\u001b[0m             raise ContractNotRespected(contract=self, error=error,\n\u001b[0;32m---> 25\u001b[0;31m                                        value=value, context=context)\n\u001b[0m\u001b[1;32m     26\u001b[0m \u001b[0;34m\u001b[0m\u001b[0m\n\u001b[1;32m     27\u001b[0m     \u001b[0;32mdef\u001b[0m \u001b[0m__str__\u001b[0m\u001b[0;34m(\u001b[0m\u001b[0mself\u001b[0m\u001b[0;34m)\u001b[0m\u001b[0;34m:\u001b[0m\u001b[0;34m\u001b[0m\u001b[0m\n",
      "\u001b[0;31mContractNotRespected\u001b[0m: Breach for argument 'x' to f().\nExpected type 'int', got <class 'str'>.\nchecking: Int       for value: Instance of <class 'str'>: 'Hello'   \nchecking: $(Int)    for value: Instance of <class 'str'>: 'Hello'   \nchecking: int       for value: Instance of <class 'str'>: 'Hello'   \nchecking: int,>=0   for value: Instance of <class 'str'>: 'Hello'   \nVariables bound in inner context:\n"
     ]
    }
   ],
   "source": [
    "f(\"Hello\")"
   ]
  },
  {
   "cell_type": "markdown",
   "metadata": {},
   "source": [
    "Дополнительную диагностику ошибки опустим."
   ]
  },
  {
   "cell_type": "markdown",
   "metadata": {},
   "source": [
    "## Проверка постусловий\n",
    "\n",
    "Пример контракта с проверкой результата работы функции:"
   ]
  },
  {
   "cell_type": "code",
   "execution_count": 5,
   "metadata": {
    "ExecuteTime": {
     "end_time": "2018-07-17T19:35:35.149733Z",
     "start_time": "2018-07-17T19:35:35.144931Z"
    }
   },
   "outputs": [],
   "source": [
    "@contract(returns='int,>=0')\n",
    "def f(x):\n",
    "    return x"
   ]
  },
  {
   "cell_type": "markdown",
   "metadata": {},
   "source": [
    "В случае нарушения контракта также будет приведена диагностика:"
   ]
  },
  {
   "cell_type": "code",
   "execution_count": 6,
   "metadata": {
    "ExecuteTime": {
     "end_time": "2018-07-17T19:36:10.559643Z",
     "start_time": "2018-07-17T19:36:10.545311Z"
    }
   },
   "outputs": [
    {
     "ename": "ContractNotRespected",
     "evalue": "Breach for return value of f().\nCondition -1 >= 0 not respected\nchecking: >=0       for value: Instance of <class 'int'>: -1   \nchecking: int,>=0   for value: Instance of <class 'int'>: -1   \nVariables bound in inner context:\n",
     "output_type": "error",
     "traceback": [
      "\u001b[0;31m---------------------------------------------------------------------------\u001b[0m",
      "\u001b[0;31mContractNotRespected\u001b[0m                      Traceback (most recent call last)",
      "\u001b[0;32m<ipython-input-6-8e6746a6b70d>\u001b[0m in \u001b[0;36m<module>\u001b[0;34m()\u001b[0m\n\u001b[0;32m----> 1\u001b[0;31m \u001b[0mf\u001b[0m\u001b[0;34m(\u001b[0m\u001b[0;34m-\u001b[0m\u001b[0;36m1\u001b[0m\u001b[0;34m)\u001b[0m\u001b[0;34m\u001b[0m\u001b[0m\n\u001b[0m",
      "\u001b[0;32m<decorator-gen-126>\u001b[0m in \u001b[0;36mf\u001b[0;34m(x)\u001b[0m\n",
      "\u001b[0;32m~/.local/lib/python3.6/site-packages/contracts/main.py\u001b[0m in \u001b[0;36mcontracts_checker\u001b[0;34m(unused, *args, **kwargs)\u001b[0m\n\u001b[1;32m    269\u001b[0m                        % (get_nice_function_display()))\n\u001b[1;32m    270\u001b[0m                 \u001b[0me\u001b[0m\u001b[0;34m.\u001b[0m\u001b[0merror\u001b[0m \u001b[0;34m=\u001b[0m \u001b[0mmsg\u001b[0m \u001b[0;34m+\u001b[0m \u001b[0me\u001b[0m\u001b[0;34m.\u001b[0m\u001b[0merror\u001b[0m\u001b[0;34m\u001b[0m\u001b[0m\n\u001b[0;32m--> 271\u001b[0;31m                 \u001b[0;32mraise\u001b[0m \u001b[0me\u001b[0m\u001b[0;34m\u001b[0m\u001b[0m\n\u001b[0m\u001b[1;32m    272\u001b[0m \u001b[0;34m\u001b[0m\u001b[0m\n\u001b[1;32m    273\u001b[0m         \u001b[0;32mreturn\u001b[0m \u001b[0mresult\u001b[0m\u001b[0;34m\u001b[0m\u001b[0m\n",
      "\u001b[0;32m~/.local/lib/python3.6/site-packages/contracts/main.py\u001b[0m in \u001b[0;36mcontracts_checker\u001b[0;34m(unused, *args, **kwargs)\u001b[0m\n\u001b[1;32m    264\u001b[0m         \u001b[0;32mif\u001b[0m \u001b[0mreturns_parsed\u001b[0m \u001b[0;32mis\u001b[0m \u001b[0;32mnot\u001b[0m \u001b[0;32mNone\u001b[0m\u001b[0;34m:\u001b[0m\u001b[0;34m\u001b[0m\u001b[0m\n\u001b[1;32m    265\u001b[0m             \u001b[0;32mtry\u001b[0m\u001b[0;34m:\u001b[0m\u001b[0;34m\u001b[0m\u001b[0m\n\u001b[0;32m--> 266\u001b[0;31m                 \u001b[0mreturns_parsed\u001b[0m\u001b[0;34m.\u001b[0m\u001b[0m_check_contract\u001b[0m\u001b[0;34m(\u001b[0m\u001b[0mcontext\u001b[0m\u001b[0;34m,\u001b[0m \u001b[0mresult\u001b[0m\u001b[0;34m,\u001b[0m \u001b[0msilent\u001b[0m\u001b[0;34m=\u001b[0m\u001b[0;32mFalse\u001b[0m\u001b[0;34m)\u001b[0m\u001b[0;34m\u001b[0m\u001b[0m\n\u001b[0m\u001b[1;32m    267\u001b[0m             \u001b[0;32mexcept\u001b[0m \u001b[0mContractNotRespected\u001b[0m \u001b[0;32mas\u001b[0m \u001b[0me\u001b[0m\u001b[0;34m:\u001b[0m\u001b[0;34m\u001b[0m\u001b[0m\n\u001b[1;32m    268\u001b[0m                 msg = ('Breach for return value of %s.\\n'\n",
      "\u001b[0;32m~/.local/lib/python3.6/site-packages/contracts/interface.py\u001b[0m in \u001b[0;36m_check_contract\u001b[0;34m(self, context, value, silent)\u001b[0m\n\u001b[1;32m    437\u001b[0m         \u001b[0mvariables\u001b[0m \u001b[0;34m=\u001b[0m \u001b[0mcontext\u001b[0m\u001b[0;34m.\u001b[0m\u001b[0mcopy\u001b[0m\u001b[0;34m(\u001b[0m\u001b[0;34m)\u001b[0m\u001b[0;34m\u001b[0m\u001b[0m\n\u001b[1;32m    438\u001b[0m         \u001b[0;32mtry\u001b[0m\u001b[0;34m:\u001b[0m\u001b[0;34m\u001b[0m\u001b[0m\n\u001b[0;32m--> 439\u001b[0;31m             \u001b[0mself\u001b[0m\u001b[0;34m.\u001b[0m\u001b[0mcheck_contract\u001b[0m\u001b[0;34m(\u001b[0m\u001b[0mcontext\u001b[0m\u001b[0;34m,\u001b[0m \u001b[0mvalue\u001b[0m\u001b[0;34m,\u001b[0m \u001b[0msilent\u001b[0m\u001b[0;34m)\u001b[0m\u001b[0;34m\u001b[0m\u001b[0m\n\u001b[0m\u001b[1;32m    440\u001b[0m         \u001b[0;32mexcept\u001b[0m \u001b[0mContractNotRespected\u001b[0m \u001b[0;32mas\u001b[0m \u001b[0me\u001b[0m\u001b[0;34m:\u001b[0m\u001b[0;34m\u001b[0m\u001b[0m\n\u001b[1;32m    441\u001b[0m             \u001b[0me\u001b[0m\u001b[0;34m.\u001b[0m\u001b[0mstack\u001b[0m\u001b[0;34m.\u001b[0m\u001b[0mappend\u001b[0m\u001b[0;34m(\u001b[0m\u001b[0;34m(\u001b[0m\u001b[0mself\u001b[0m\u001b[0;34m,\u001b[0m \u001b[0mvariables\u001b[0m\u001b[0;34m,\u001b[0m \u001b[0mvalue\u001b[0m\u001b[0;34m)\u001b[0m\u001b[0;34m)\u001b[0m\u001b[0;34m\u001b[0m\u001b[0m\n",
      "\u001b[0;32m~/.local/lib/python3.6/site-packages/contracts/library/compositions.py\u001b[0m in \u001b[0;36mcheck_contract\u001b[0;34m(self, context, value, silent)\u001b[0m\n\u001b[1;32m    121\u001b[0m     \u001b[0;32mdef\u001b[0m \u001b[0mcheck_contract\u001b[0m\u001b[0;34m(\u001b[0m\u001b[0mself\u001b[0m\u001b[0;34m,\u001b[0m \u001b[0mcontext\u001b[0m\u001b[0;34m,\u001b[0m \u001b[0mvalue\u001b[0m\u001b[0;34m,\u001b[0m \u001b[0msilent\u001b[0m\u001b[0;34m)\u001b[0m\u001b[0;34m:\u001b[0m\u001b[0;34m\u001b[0m\u001b[0m\n\u001b[1;32m    122\u001b[0m         \u001b[0;32mfor\u001b[0m \u001b[0mc\u001b[0m \u001b[0;32min\u001b[0m \u001b[0mself\u001b[0m\u001b[0;34m.\u001b[0m\u001b[0mclauses\u001b[0m\u001b[0;34m:\u001b[0m\u001b[0;34m\u001b[0m\u001b[0m\n\u001b[0;32m--> 123\u001b[0;31m             \u001b[0mc\u001b[0m\u001b[0;34m.\u001b[0m\u001b[0m_check_contract\u001b[0m\u001b[0;34m(\u001b[0m\u001b[0mcontext\u001b[0m\u001b[0;34m,\u001b[0m \u001b[0mvalue\u001b[0m\u001b[0;34m,\u001b[0m \u001b[0msilent\u001b[0m\u001b[0;34m)\u001b[0m\u001b[0;34m\u001b[0m\u001b[0m\n\u001b[0m\u001b[1;32m    124\u001b[0m \u001b[0;34m\u001b[0m\u001b[0m\n\u001b[1;32m    125\u001b[0m     \u001b[0;32mdef\u001b[0m \u001b[0m__repr__\u001b[0m\u001b[0;34m(\u001b[0m\u001b[0mself\u001b[0m\u001b[0;34m)\u001b[0m\u001b[0;34m:\u001b[0m\u001b[0;34m\u001b[0m\u001b[0m\n",
      "\u001b[0;32m~/.local/lib/python3.6/site-packages/contracts/interface.py\u001b[0m in \u001b[0;36m_check_contract\u001b[0;34m(self, context, value, silent)\u001b[0m\n\u001b[1;32m    437\u001b[0m         \u001b[0mvariables\u001b[0m \u001b[0;34m=\u001b[0m \u001b[0mcontext\u001b[0m\u001b[0;34m.\u001b[0m\u001b[0mcopy\u001b[0m\u001b[0;34m(\u001b[0m\u001b[0;34m)\u001b[0m\u001b[0;34m\u001b[0m\u001b[0m\n\u001b[1;32m    438\u001b[0m         \u001b[0;32mtry\u001b[0m\u001b[0;34m:\u001b[0m\u001b[0;34m\u001b[0m\u001b[0m\n\u001b[0;32m--> 439\u001b[0;31m             \u001b[0mself\u001b[0m\u001b[0;34m.\u001b[0m\u001b[0mcheck_contract\u001b[0m\u001b[0;34m(\u001b[0m\u001b[0mcontext\u001b[0m\u001b[0;34m,\u001b[0m \u001b[0mvalue\u001b[0m\u001b[0;34m,\u001b[0m \u001b[0msilent\u001b[0m\u001b[0;34m)\u001b[0m\u001b[0;34m\u001b[0m\u001b[0m\n\u001b[0m\u001b[1;32m    440\u001b[0m         \u001b[0;32mexcept\u001b[0m \u001b[0mContractNotRespected\u001b[0m \u001b[0;32mas\u001b[0m \u001b[0me\u001b[0m\u001b[0;34m:\u001b[0m\u001b[0;34m\u001b[0m\u001b[0m\n\u001b[1;32m    441\u001b[0m             \u001b[0me\u001b[0m\u001b[0;34m.\u001b[0m\u001b[0mstack\u001b[0m\u001b[0;34m.\u001b[0m\u001b[0mappend\u001b[0m\u001b[0;34m(\u001b[0m\u001b[0;34m(\u001b[0m\u001b[0mself\u001b[0m\u001b[0;34m,\u001b[0m \u001b[0mvariables\u001b[0m\u001b[0;34m,\u001b[0m \u001b[0mvalue\u001b[0m\u001b[0;34m)\u001b[0m\u001b[0;34m)\u001b[0m\u001b[0;34m\u001b[0m\u001b[0m\n",
      "\u001b[0;32m~/.local/lib/python3.6/site-packages/contracts/library/comparison.py\u001b[0m in \u001b[0;36mcheck_contract\u001b[0;34m(self, context, value, silent)\u001b[0m\n\u001b[1;32m     85\u001b[0m \u001b[0;34m\u001b[0m\u001b[0m\n\u001b[1;32m     86\u001b[0m             raise ContractNotRespected(contract=self, error=error,\n\u001b[0;32m---> 87\u001b[0;31m                                        value=value, context=context)\n\u001b[0m\u001b[1;32m     88\u001b[0m \u001b[0;34m\u001b[0m\u001b[0m\n\u001b[1;32m     89\u001b[0m     \u001b[0;32mdef\u001b[0m \u001b[0m__str__\u001b[0m\u001b[0;34m(\u001b[0m\u001b[0mself\u001b[0m\u001b[0;34m)\u001b[0m\u001b[0;34m:\u001b[0m\u001b[0;34m\u001b[0m\u001b[0m\n",
      "\u001b[0;31mContractNotRespected\u001b[0m: Breach for return value of f().\nCondition -1 >= 0 not respected\nchecking: >=0       for value: Instance of <class 'int'>: -1   \nchecking: int,>=0   for value: Instance of <class 'int'>: -1   \nVariables bound in inner context:\n"
     ]
    }
   ],
   "source": [
    "f(-1)"
   ]
  },
  {
   "cell_type": "markdown",
   "metadata": {},
   "source": [
    "## Три варианта описания контракта функции\n",
    "\n",
    "1. Через декоратор `contract`:"
   ]
  },
  {
   "cell_type": "code",
   "execution_count": 7,
   "metadata": {
    "ExecuteTime": {
     "end_time": "2018-07-17T19:36:57.693366Z",
     "start_time": "2018-07-17T19:36:57.689761Z"
    }
   },
   "outputs": [],
   "source": [
    "@contract(n='int,>=0', returns='int,>=0')\n",
    "def f1(n):\n",
    "    pass"
   ]
  },
  {
   "cell_type": "markdown",
   "metadata": {},
   "source": [
    "2. Описание в документ-строке:"
   ]
  },
  {
   "cell_type": "code",
   "execution_count": 8,
   "metadata": {
    "ExecuteTime": {
     "end_time": "2018-07-17T19:37:17.314629Z",
     "start_time": "2018-07-17T19:37:17.306032Z"
    }
   },
   "outputs": [],
   "source": [
    "@contract\n",
    "def f2(n):\n",
    "    \"\"\" Function description.\n",
    "        :type n: int,>=0\n",
    "        :rtype: int,>=0\n",
    "    \"\"\"\n",
    "    pass"
   ]
  },
  {
   "cell_type": "markdown",
   "metadata": {},
   "source": [
    "3. Через аннотацию типов:"
   ]
  },
  {
   "cell_type": "code",
   "execution_count": 9,
   "metadata": {
    "ExecuteTime": {
     "end_time": "2018-07-17T19:37:37.636691Z",
     "start_time": "2018-07-17T19:37:37.633330Z"
    }
   },
   "outputs": [],
   "source": [
    "@contract\n",
    "def f3(n:'int,>=0') -> 'int,>=0':\n",
    "    pass"
   ]
  },
  {
   "cell_type": "markdown",
   "metadata": {},
   "source": [
    "Использование декоратора — самый традиционный способ описания контракта. Аннотация типов — самый короткий способ использования PyContracts."
   ]
  },
  {
   "cell_type": "markdown",
   "metadata": {},
   "source": [
    "## Язык описания контрактов PyContracts\n",
    "\n",
    "**Логическое И**: если нужно проверить несколько условий, их можно просто записать через запятую:"
   ]
  },
  {
   "cell_type": "code",
   "execution_count": 10,
   "metadata": {
    "ExecuteTime": {
     "end_time": "2018-07-17T19:38:51.166320Z",
     "start_time": "2018-07-17T19:38:51.153727Z"
    }
   },
   "outputs": [],
   "source": [
    "@contract(x='>=0,<=1')\n",
    "def f(x):\n",
    "    pass"
   ]
  },
  {
   "cell_type": "markdown",
   "metadata": {},
   "source": [
    "**Логическое ИЛИ**: вертикальная черта:"
   ]
  },
  {
   "cell_type": "code",
   "execution_count": 11,
   "metadata": {
    "ExecuteTime": {
     "end_time": "2018-07-17T19:39:34.867158Z",
     "start_time": "2018-07-17T19:39:34.850514Z"
    }
   },
   "outputs": [],
   "source": [
    "@contract(x='<0|>1')\n",
    "def f(x):\n",
    "    pass\n",
    "\n",
    "@contract(x='(int|float),>=0')\n",
    "def f(x):\n",
    "    pass"
   ]
  },
  {
   "cell_type": "markdown",
   "metadata": {},
   "source": [
    "Для списков возможны требования как к длине, так и к типу элементов и их значениям:\n",
    "\n",
    "`list[length contract](elements contract)`\n",
    "\n",
    "Примеры:\n",
    "\n",
    "* `list[>0]` — непустой список.\n",
    "* `list(int)` — список целых чисел, возможно пустой.\n",
    "* `list(int,>0)` — список положительных целых, возможно пустой.\n",
    "* `list[>0,<=100](int,>0,<=1000)` — непустой список из не более ста положительных целых чисел, не превышающих по значению тысячу.\n",
    "\n",
    "Для словарей также можно ввести требования к их размеру, а также к типу ключа и/или типу значения:\n",
    "\n",
    "`dict[length contract](key contract: value contract)`\n",
    "\n",
    "Примеры:\n",
    "\n",
    "* `dict[>0]` — непустой словарь.\n",
    "* `dict(str:*)` — словарь со строками в качестве ключей и любыми типами значений.\n",
    "* `dict[>0](str:(int,>0))` — непустой словарь с ключами-строками и положительными целочисленными значениями.\n",
    "\n",
    "## Описание нового контракта\n",
    "\n",
    "При помощи декоратора можно создать новый вид контракта:"
   ]
  },
  {
   "cell_type": "code",
   "execution_count": 13,
   "metadata": {
    "ExecuteTime": {
     "end_time": "2018-07-17T19:44:41.674345Z",
     "start_time": "2018-07-17T19:44:41.667724Z"
    }
   },
   "outputs": [],
   "source": [
    "from contracts import new_contract\n",
    "\n",
    "@new_contract\n",
    "def even(x):\n",
    "    if x % 2 != 0:\n",
    "        msg = 'The number %d is not even.' % x\n",
    "        raise ValueError(msg)"
   ]
  },
  {
   "cell_type": "markdown",
   "metadata": {},
   "source": [
    "После этого его можно использовать как и обычный:"
   ]
  },
  {
   "cell_type": "code",
   "execution_count": 14,
   "metadata": {
    "ExecuteTime": {
     "end_time": "2018-07-17T19:45:05.861812Z",
     "start_time": "2018-07-17T19:45:05.851674Z"
    }
   },
   "outputs": [],
   "source": [
    "@contract(x='int,even')\n",
    "def foo(x):\n",
    "    pass"
   ]
  },
  {
   "cell_type": "markdown",
   "metadata": {},
   "source": [
    "Можно создать новый вид контракта и так:"
   ]
  },
  {
   "cell_type": "code",
   "execution_count": 15,
   "metadata": {
    "ExecuteTime": {
     "end_time": "2018-07-17T19:45:34.285985Z",
     "start_time": "2018-07-17T19:45:34.268266Z"
    }
   },
   "outputs": [],
   "source": [
    "new_contract('short_list', 'list[N],N>0,N<=10')\n",
    "\n",
    "@contract(a='short_list')\n",
    "def bubble_sort(a):\n",
    "    for bypass in range(len(a)-1):\n",
    "        for i in range(len(a)-1-bypass):\n",
    "            if a[i] > a[i+1]:\n",
    "                a[i], a[i+1] = a[i+1], a[i]"
   ]
  },
  {
   "cell_type": "markdown",
   "metadata": {},
   "source": [
    "## Связывание значений различных параметров\n",
    "\n",
    "В языке описания контрактов PyContracts используются переменные:\n",
    "\n",
    "* строчные латинские буквы — для любых объектов\n",
    "* заглавные латинские буквы — для целых чисел\n",
    "\n",
    "Пример такой связки:"
   ]
  },
  {
   "cell_type": "code",
   "execution_count": 17,
   "metadata": {
    "ExecuteTime": {
     "end_time": "2018-07-17T19:46:33.768716Z",
     "start_time": "2018-07-17T19:46:33.764332Z"
    }
   },
   "outputs": [],
   "source": [
    "@contract(words='list[N](str),N>0', returns='list[N](>=0)')\n",
    "def get_words_lengths(words):\n",
    "    return [len(word) for word in words]"
   ]
  },
  {
   "cell_type": "markdown",
   "metadata": {},
   "source": [
    "В этом примере контракт проверит не только то, что возвращается тип list, но и то, что этот список имеет ту же длину, что и переданный ей список words."
   ]
  },
  {
   "cell_type": "markdown",
   "metadata": {},
   "source": [
    "## Замечания\n",
    "\n",
    "1. Реализация программирования по контракту не входит в стандартную библиотеку Python. Нами использована библиотека PyContracts, но существуют и альтернативные библиотеки: PyDBC, Contracts for Python, Decontractors.\n",
    "2. Домашняя страница библиотеки PyContracts: http://andreacensi.github.io/contracts/\n",
    "3. В качестве дополнительного материала — [доклад про контрактное программирование на Moscow Python](https://www.youtube.com/watch?v=YN2ETIhrcHU)."
   ]
  }
 ],
 "metadata": {
  "kernelspec": {
   "display_name": "Python 3",
   "language": "python",
   "name": "python3"
  },
  "language_info": {
   "codemirror_mode": {
    "name": "ipython",
    "version": 3
   },
   "file_extension": ".py",
   "mimetype": "text/x-python",
   "name": "python",
   "nbconvert_exporter": "python",
   "pygments_lexer": "ipython3",
   "version": "3.6.5"
  },
  "toc": {
   "base_numbering": 1,
   "nav_menu": {},
   "number_sections": true,
   "sideBar": false,
   "skip_h1_title": true,
   "title_cell": "Table of Contents",
   "title_sidebar": "Contents",
   "toc_cell": false,
   "toc_position": {},
   "toc_section_display": true,
   "toc_window_display": true
  }
 },
 "nbformat": 4,
 "nbformat_minor": 2
}
