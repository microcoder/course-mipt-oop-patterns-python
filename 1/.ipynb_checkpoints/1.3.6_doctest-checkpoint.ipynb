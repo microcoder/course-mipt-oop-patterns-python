{
 "cells": [
  {
   "cell_type": "markdown",
   "metadata": {},
   "source": [
    "# Библиотека doctest\n",
    "\n",
    "Пример работы с `doctest`. Все тесты описываются в докстроке, где знак `>>>` указывает на вызов тестируемой функции, а сразу под нею ожидаемый результат. После запуска `doctest` мы увидим отчет о тестировании:"
   ]
  },
  {
   "cell_type": "code",
   "execution_count": 3,
   "metadata": {
    "ExecuteTime": {
     "end_time": "2018-07-18T05:38:16.499460Z",
     "start_time": "2018-07-18T05:38:16.491076Z"
    }
   },
   "outputs": [
    {
     "name": "stdout",
     "output_type": "stream",
     "text": [
      "**********************************************************************\n",
      "File \"__main__\", line 4, in __main__.is_braces_sequence_correct\n",
      "Failed example:\n",
      "    is_braces_sequence_correct('() (())')\n",
      "Expected:\n",
      "    True\n",
      "Got nothing\n",
      "**********************************************************************\n",
      "File \"__main__\", line 6, in __main__.is_braces_sequence_correct\n",
      "Failed example:\n",
      "    is_braces_sequence_correct('() [()]')\n",
      "Expected:\n",
      "    True\n",
      "Got nothing\n",
      "**********************************************************************\n",
      "File \"__main__\", line 8, in __main__.is_braces_sequence_correct\n",
      "Failed example:\n",
      "    is_braces_sequence_correct(')')\n",
      "Expected:\n",
      "    False\n",
      "Got nothing\n",
      "**********************************************************************\n",
      "File \"__main__\", line 10, in __main__.is_braces_sequence_correct\n",
      "Failed example:\n",
      "    is_braces_sequence_correct('[()')\n",
      "Expected:\n",
      "    False\n",
      "Got nothing\n",
      "**********************************************************************\n",
      "File \"__main__\", line 12, in __main__.is_braces_sequence_correct\n",
      "Failed example:\n",
      "    is_braces_sequence_correct('[(])')\n",
      "Expected:\n",
      "    False\n",
      "Got nothing\n",
      "**********************************************************************\n",
      "1 items had failures:\n",
      "   5 of   5 in __main__.is_braces_sequence_correct\n",
      "***Test Failed*** 5 failures.\n"
     ]
    }
   ],
   "source": [
    "def is_braces_sequence_correct(seq: str) -> bool:\n",
    "    \"\"\"\n",
    "    Check correctness of braces sequence in statement\n",
    "    >>> is_braces_sequence_correct('() (())')\n",
    "    True\n",
    "    >>> is_braces_sequence_correct('() [()]')\n",
    "    True\n",
    "    >>> is_braces_sequence_correct(')')\n",
    "    False\n",
    "    >>> is_braces_sequence_correct('[()')\n",
    "    False\n",
    "    >>> is_braces_sequence_correct('[(])')\n",
    "    False\n",
    "    \"\"\"\n",
    "    pass\n",
    "\n",
    "\n",
    "if __name__ == '__main__':\n",
    "    import doctest\n",
    "    doctest.testmod()"
   ]
  },
  {
   "cell_type": "markdown",
   "metadata": {},
   "source": [
    "Посмотрим на другой отчет, если бы функция возвращала всегда True:"
   ]
  },
  {
   "cell_type": "code",
   "execution_count": 19,
   "metadata": {
    "ExecuteTime": {
     "end_time": "2018-07-18T06:09:18.617807Z",
     "start_time": "2018-07-18T06:09:18.611577Z"
    }
   },
   "outputs": [
    {
     "name": "stdout",
     "output_type": "stream",
     "text": [
      "**********************************************************************\n",
      "File \"__main__\", line 8, in __main__.is_braces_sequence_correct\n",
      "Failed example:\n",
      "    is_braces_sequence_correct(')')\n",
      "Expected:\n",
      "    False\n",
      "Got:\n",
      "    True\n",
      "**********************************************************************\n",
      "File \"__main__\", line 10, in __main__.is_braces_sequence_correct\n",
      "Failed example:\n",
      "    is_braces_sequence_correct('[()')\n",
      "Expected:\n",
      "    False\n",
      "Got:\n",
      "    True\n",
      "**********************************************************************\n",
      "File \"__main__\", line 12, in __main__.is_braces_sequence_correct\n",
      "Failed example:\n",
      "    is_braces_sequence_correct('[(])')\n",
      "Expected:\n",
      "    False\n",
      "Got:\n",
      "    True\n",
      "**********************************************************************\n",
      "1 items had failures:\n",
      "   3 of   5 in __main__.is_braces_sequence_correct\n",
      "***Test Failed*** 3 failures.\n"
     ]
    }
   ],
   "source": [
    "def is_braces_sequence_correct(seq: str) -> bool:\n",
    "    \"\"\"\n",
    "    Check correctness of braces sequence in statement\n",
    "    >>> is_braces_sequence_correct('()(())')\n",
    "    True\n",
    "    >>> is_braces_sequence_correct('()[()]')\n",
    "    True\n",
    "    >>> is_braces_sequence_correct(')')\n",
    "    False\n",
    "    >>> is_braces_sequence_correct('[()')\n",
    "    False\n",
    "    >>> is_braces_sequence_correct('[(])')\n",
    "    False\n",
    "    \"\"\"\n",
    "    return True\n",
    "\n",
    "\n",
    "if __name__ == '__main__':\n",
    "    import doctest\n",
    "    doctest.testmod()"
   ]
  },
  {
   "cell_type": "markdown",
   "metadata": {},
   "source": [
    "Давайте добавим корректную реализацию функции и посмотрим, что мы увидим в этом случае:"
   ]
  },
  {
   "cell_type": "code",
   "execution_count": 20,
   "metadata": {
    "ExecuteTime": {
     "end_time": "2018-07-18T06:09:36.938836Z",
     "start_time": "2018-07-18T06:09:36.932275Z"
    }
   },
   "outputs": [],
   "source": [
    "def is_braces_sequence_correct(seq: str) -> bool:\n",
    "    \"\"\"\n",
    "    Check correctness of braces sequence in statement\n",
    "    >>> is_braces_sequence_correct('()(())')\n",
    "    True\n",
    "    >>> is_braces_sequence_correct('()[()]')\n",
    "    True\n",
    "    >>> is_braces_sequence_correct(')')\n",
    "    False\n",
    "    >>> is_braces_sequence_correct('[()')\n",
    "    False\n",
    "    >>> is_braces_sequence_correct('[(])')\n",
    "    False\n",
    "    \"\"\"\n",
    "    stack = []\n",
    "    correspondent = dict(zip('([{', ')]}'))\n",
    "    \n",
    "    for brace in seq:\n",
    "        if brace in '([{':\n",
    "            stack.append(brace)\n",
    "            continue\n",
    "        elif brace in '}])':\n",
    "            if not stack:\n",
    "                return False\n",
    "            left = stack.pop()\n",
    "            if correspondent[left] != brace:\n",
    "                return False\n",
    "    \n",
    "    return not stack\n",
    "\n",
    "\n",
    "if __name__ == '__main__':\n",
    "    import doctest\n",
    "    doctest.testmod()"
   ]
  },
  {
   "cell_type": "markdown",
   "metadata": {},
   "source": [
    "В этом случае, при запуске тестов мы не увидим ничего. Реально тестирование производится, но мы его не видим и это хорошо, зачем нм видеть лишний раз это тестирование? Фактически такое тестирование является простешим, примитивным, не требует ничего."
   ]
  }
 ],
 "metadata": {
  "kernelspec": {
   "display_name": "Python 3",
   "language": "python",
   "name": "python3"
  },
  "language_info": {
   "codemirror_mode": {
    "name": "ipython",
    "version": 3
   },
   "file_extension": ".py",
   "mimetype": "text/x-python",
   "name": "python",
   "nbconvert_exporter": "python",
   "pygments_lexer": "ipython3",
   "version": "3.6.5"
  },
  "toc": {
   "base_numbering": 1,
   "nav_menu": {},
   "number_sections": true,
   "sideBar": false,
   "skip_h1_title": true,
   "title_cell": "Table of Contents",
   "title_sidebar": "Contents",
   "toc_cell": false,
   "toc_position": {},
   "toc_section_display": true,
   "toc_window_display": false
  }
 },
 "nbformat": 4,
 "nbformat_minor": 2
}
