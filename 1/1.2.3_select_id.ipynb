{
 "cells": [
  {
   "cell_type": "markdown",
   "metadata": {},
   "source": [
    "# Выбор идентификаторов\n",
    "\n",
    "## Соглашение об именах\n",
    "\n",
    "* `mymodule` - модуль или пакет\n",
    "* `UserClassName` - класс\n",
    "* `ExceptionsAreAlsoClasses` - исключение\n",
    "* `function_name` - функция или метод\n",
    "* `notDesiredFunctionName` - трудночитаемая функция или метод\n",
    "* `GLOBAL_CONSTANT` - константа уровня модуля\n",
    "* `variable_name` - переменная или открытый (public) атрибут класса\n",
    "\n",
    "## Символ подчёркивания\n",
    "\n",
    "* `_internal_function` - Одно подчёркивание вначале. функция для внутренних нужд\n",
    "* `resolve_conflict_with_builtin_name_`, `type_`, `in_` - Одно подчёркивание в конце. Так можно избежать конфликта с зарезервированным словом\n",
    "* `__encapsulated` - Два подчёркивания вначале. Скрываемая функция или атрибут\n",
    "* `__magic_method__` - Два подчёривания вначале и конце. Функция или метод с особым назначением (согласно документации)\n",
    "\n",
    "### Глобальные переменные\n",
    "\n",
    "* Глобальные переменные - это очень плохой стиль\n",
    "* Поведение функций начинает зависеть от неявно заданных обстоятельств\n",
    "* Они создают проблемы в работе асинхронных программ\n",
    "\n",
    "### Пример использования PEP8\n",
    "\n",
    "````python\n",
    "class MyClass:\n",
    "    \"\"\"\n",
    "    Use PEP8 to be Master of Code!\n",
    "    \"\"\"\n",
    "    def __init__(self, class_):\n",
    "        self._internal = class_\n",
    "    \n",
    "    def public_method(self, x: int):\n",
    "        \"\"\"\n",
    "        Some document string here.\n",
    "        \"\"\"\n",
    "        if x > 0:\n",
    "            return x + 1\n",
    "        return x\n",
    "````\n",
    "\n",
    "### Общие замечания\n",
    "\n",
    "* Если имя - часть [API](https://ru.wikipedia.org/wiki/API), то оно должно быть согласовано со стилем кода интерфейса, а не реализации\n",
    "* Имена должны содержать только символы [ASCII](https://ru.wikipedia.org/wiki/ASCII) и означать только английские слова\n",
    "* Имена должны отражать смысл объекта, не быть бессмысленными"
   ]
  }
 ],
 "metadata": {
  "kernelspec": {
   "display_name": "Python 3",
   "language": "python",
   "name": "python3"
  },
  "language_info": {
   "codemirror_mode": {
    "name": "ipython",
    "version": 3
   },
   "file_extension": ".py",
   "mimetype": "text/x-python",
   "name": "python",
   "nbconvert_exporter": "python",
   "pygments_lexer": "ipython3",
   "version": "3.6.3"
  },
  "toc": {
   "nav_menu": {},
   "number_sections": true,
   "sideBar": false,
   "skip_h1_title": true,
   "title_cell": "Table of Contents",
   "title_sidebar": "Contents",
   "toc_cell": false,
   "toc_position": {},
   "toc_section_display": true,
   "toc_window_display": true
  }
 },
 "nbformat": 4,
 "nbformat_minor": 2
}
