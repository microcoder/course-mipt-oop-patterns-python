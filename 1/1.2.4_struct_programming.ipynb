{
 "cells": [
  {
   "cell_type": "markdown",
   "metadata": {},
   "source": [
    "# Структурное программирование\n",
    "\n",
    "* Методология, облегчающая создание больших программ\n",
    "* Методология появилась в 1970-х годах\n",
    "* Создатели методолгии:\n",
    "    * [Эдсгер Дейкстра](https://ru.wikipedia.org/wiki/%D0%94%D0%B5%D0%B9%D0%BA%D1%81%D1%82%D1%80%D0%B0,_%D0%AD%D0%B4%D1%81%D0%B3%D0%B5%D1%80_%D0%92%D0%B8%D0%B1%D0%B5)\n",
    "    * [Тони Хоар](https://ru.wikipedia.org/wiki/%D0%A5%D0%BE%D0%B0%D1%80,_%D0%A7%D0%B0%D1%80%D0%BB%D1%8C%D0%B7_%D0%AD%D0%BD%D1%82%D0%BE%D0%BD%D0%B8_%D0%A0%D0%B8%D1%87%D0%B0%D1%80%D0%B4)\n",
    "    * [Никлаус Вирт](https://ru.wikipedia.org/wiki/%D0%92%D0%B8%D1%80%D1%82,_%D0%9D%D0%B8%D0%BA%D0%BB%D0%B0%D1%83%D1%81)\n",
    "\n",
    "\n",
    "## Новичок концентрируется на технических моментах\n",
    "\n",
    "На чём концентрируется начинающий водитель?\n",
    "\n",
    "* Я фары включил или нет?\n",
    "* Где педаль сцепления? Сейчас надо нажимать или нет?\n",
    "* Как сейчас не врезаться? Что вообще делать?\n",
    "* Разрешён ли тут обгон?\n",
    "* Не превышаю ли я сейчас скорость?\n",
    "* Можно ли тут останавливаться?\n",
    "\n",
    "Так и начинающий программист, концентрируется на конструкциях языка, а методология - это то, что позволяет приподняться над синтаксисом языка.\n",
    "\n",
    "## Опытный водитель думает\n",
    "\n",
    "* Какая цель у поездки?\n",
    "* Нужно ли куда-то заехать и в каком порядке это лучше сделать?\n",
    "* Как оптимально спланировать маршрут?\n",
    "\n",
    "## Принципы структурного программирования\n",
    "\n",
    "* Откажитесь от использования [goto](https://ru.wikipedia.org/wiki/Goto)\n",
    "* Стройте программу из вложенных конструкций: последовательность, ветвление (if, elif, else), цикл (while, for)\n",
    "* Повторяющиеся фрагменты программы оформляйте в виде подпрограмм (функции, процедуры)\n",
    "* Разработка программы ведётся пошагово, методом \"сверху вниз\""
   ]
  }
 ],
 "metadata": {
  "kernelspec": {
   "display_name": "Python 3",
   "language": "python",
   "name": "python3"
  },
  "language_info": {
   "codemirror_mode": {
    "name": "ipython",
    "version": 3
   },
   "file_extension": ".py",
   "mimetype": "text/x-python",
   "name": "python",
   "nbconvert_exporter": "python",
   "pygments_lexer": "ipython3",
   "version": "3.6.5"
  },
  "toc": {
   "base_numbering": 1,
   "nav_menu": {},
   "number_sections": true,
   "sideBar": false,
   "skip_h1_title": true,
   "title_cell": "Table of Contents",
   "title_sidebar": "Contents",
   "toc_cell": false,
   "toc_position": {},
   "toc_section_display": true,
   "toc_window_display": true
  }
 },
 "nbformat": 4,
 "nbformat_minor": 2
}
