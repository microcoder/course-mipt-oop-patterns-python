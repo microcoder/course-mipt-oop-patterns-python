{
 "cells": [
  {
   "cell_type": "markdown",
   "metadata": {},
   "source": [
    "# Модульное тестирование и Test-Driven Development\n",
    "\n",
    "## Модульное тестирование\n",
    "\n",
    "<img src=\"img/test_module.png\">\n",
    "\n",
    "<img src=\"img/test_module2.png\">\n",
    "\n",
    "<img src=\"img/test_module3.png\">\n",
    "\n",
    "Пример модульного тестирования:"
   ]
  },
  {
   "cell_type": "code",
   "execution_count": 3,
   "metadata": {
    "ExecuteTime": {
     "end_time": "2018-07-18T04:31:13.727334Z",
     "start_time": "2018-07-18T04:30:52.620369Z"
    }
   },
   "outputs": [
    {
     "name": "stdout",
     "output_type": "stream",
     "text": [
      "Enter some words:1 5 3 8 4 6 9 2\n",
      "Sorted words: 1 2 3 4 5 6 8 9\n"
     ]
    }
   ],
   "source": [
    "def bubble_sort(A):\n",
    "    \"\"\"\n",
    "    Sort on place with Bubblesort algorithm\n",
    "    :type A: list\n",
    "    \"\"\"\n",
    "    for bypass in range(1, len(A)):\n",
    "        for k in range(0, len(A) - bypass):\n",
    "            if A[k] > A[k+1]:\n",
    "                A[k], A[k+1] = A[k+1], A[k]\n",
    "\n",
    "def main():\n",
    "    A = input('Enter some words:').split()\n",
    "    bubble_sort(A)\n",
    "    print('Sorted words:', ' '.join(A))\n",
    "\n",
    "main()"
   ]
  },
  {
   "cell_type": "markdown",
   "metadata": {},
   "source": [
    "Для функции `bubble_sort()` мы можем написать модульный тест:"
   ]
  },
  {
   "cell_type": "code",
   "execution_count": 5,
   "metadata": {
    "ExecuteTime": {
     "end_time": "2018-07-18T04:33:11.922528Z",
     "start_time": "2018-07-18T04:33:11.917736Z"
    }
   },
   "outputs": [
    {
     "name": "stdout",
     "output_type": "stream",
     "text": [
      "#1: Ok\n"
     ]
    }
   ],
   "source": [
    "def test_sort():\n",
    "    A = [4, 2, 5, 1, 3]\n",
    "    B = [1, 2, 3, 4, 5]\n",
    "    bubble_sort(A)\n",
    "    print('#1:', 'Ok' if A == B else 'Fail')\n",
    "\n",
    "test_sort()"
   ]
  },
  {
   "cell_type": "markdown",
   "metadata": {},
   "source": [
    "Для большей гарантии нужно добавить различные тестовые сценарии:"
   ]
  },
  {
   "cell_type": "code",
   "execution_count": 6,
   "metadata": {
    "ExecuteTime": {
     "end_time": "2018-07-18T04:38:06.070755Z",
     "start_time": "2018-07-18T04:38:06.064310Z"
    }
   },
   "outputs": [
    {
     "name": "stdout",
     "output_type": "stream",
     "text": [
      "#1: Ok\n",
      "#2: Fail\n",
      "#3: Ok\n"
     ]
    }
   ],
   "source": [
    "def test_sort():\n",
    "    A = [4, 2, 5, 1, 3]\n",
    "    B = [1, 2, 3, 4, 5]\n",
    "    bubble_sort(A)\n",
    "    print('#1:', 'Ok' if A == B else 'Fail')\n",
    "    \n",
    "    A = list(range(40, 80)) + list(range(80))\n",
    "    B = list(range(80))\n",
    "    bubble_sort(A)\n",
    "    print('#2:', 'Ok' if A == B else 'Fail')\n",
    "    \n",
    "    A = [4, 2, 4, 2, 1]\n",
    "    B = [1, 2, 2, 4, 4]\n",
    "    bubble_sort(A)\n",
    "    print('#3:', 'Ok' if A == B else 'Fail')\n",
    "\n",
    "test_sort()"
   ]
  },
  {
   "cell_type": "markdown",
   "metadata": {},
   "source": [
    "## Опережающее тестирование\n",
    "\n",
    "Нужно в начале написать unittest, а потом уже приступить к реализации методов\n",
    "\n",
    "## Разработка через тестирование\n",
    "\n",
    "**Test-Driven Development** - итеративная методика разработки программ, в которой опережающее тестирование (\"test-first\") ставится во главу угла.\n",
    "\n",
    "## Цикл разработки\n",
    "\n",
    "<img src=\"img/tdd_flow.png\">\n",
    "\n",
    "## Вопросы дизайна, возникающие при разработке тестов\n",
    "\n",
    "* Каковы обязанности тестируемой системы?\n",
    "* Что и когда она должна делать?\n",
    "* Какой API удобен для выполнения задуманной функциональности?\n",
    "* Что конкретно нужно тестируемой системе для выполнения обязательств (контрактов)?\n",
    "* Что мы имеем на выходе?\n",
    "* Какие есть побочные эффекты работы?\n",
    "* Как узнать, что система работает правильно?\n",
    "* Достаточно ли хорошо определена эта \"правильность\"?\n",
    "\n",
    "## Преимущества TDD (разработки через тестирование)\n",
    "\n",
    "* Эффективное совмещение ролей (тестирование собственного кода)\n",
    "* Рефакторинг без риска испортить код\n",
    "* Реже нужно использовать отладчик (debugger)\n",
    "* Повышает уверенность в качестве программного кода\n"
   ]
  }
 ],
 "metadata": {
  "kernelspec": {
   "display_name": "Python 3",
   "language": "python",
   "name": "python3"
  },
  "language_info": {
   "codemirror_mode": {
    "name": "ipython",
    "version": 3
   },
   "file_extension": ".py",
   "mimetype": "text/x-python",
   "name": "python",
   "nbconvert_exporter": "python",
   "pygments_lexer": "ipython3",
   "version": "3.6.5"
  },
  "toc": {
   "base_numbering": 1,
   "nav_menu": {},
   "number_sections": true,
   "sideBar": false,
   "skip_h1_title": true,
   "title_cell": "Table of Contents",
   "title_sidebar": "Contents",
   "toc_cell": false,
   "toc_position": {},
   "toc_section_display": true,
   "toc_window_display": true
  }
 },
 "nbformat": 4,
 "nbformat_minor": 2
}
