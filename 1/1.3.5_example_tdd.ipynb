{
 "cells": [
  {
   "cell_type": "markdown",
   "metadata": {},
   "source": [
    "# Пример разработки через тестирование\n",
    "\n",
    "## История модульного тестирования\n",
    "\n",
    "Модульное тестирование — довольно старая идея, но особую актуальность она приобрела в последние двадцать лет в связи с развитием методик экстремального программирования.\n",
    "\n",
    "В 1975-м году оно упоминается в \"Мифическом человеко-месяце\" Фредерика Брукса\n",
    "\n",
    "В 1979-м году оно подробно описано в книге \"The Art of Software Testing\" Гленфорда Майерса.\n",
    "\n",
    "В 1987-м году IEEE выпустила специальный стандарт модульного тестирования ПО.\n",
    "\n",
    "В 1999-м году Кент Бек в книге \"Extreme Programming Explained\" сформулировал основные идеи TDD — методики, которая ставит тестирование во главу угла.\n",
    "\n",
    "## Цикл разработки\n",
    "\n",
    "Основой TDD является цикл **\"red -> green -> refactor\"**.\n",
    "\n",
    "В первой фазе программист пишет тест, во второй — код, необходимый для того, чтобы тест работал, в третьей, при необходимости, производится рефакторинг. Последовательность фаз очень важна.\n",
    "\n",
    "# Пример TDD\n",
    "\n",
    "В данном примере **не используется никаких библиотек для тестирования** (testing framework), модульные тесты делаются \"вручную\". При первом чтении это упростит восприятие идеи модульного теста. В следующих материалах будет указано два более элегантных пути создавать тесты.\n",
    "\n",
    "## Создаём тесты и заготовку программного кода\n",
    "\n",
    "### Создаём модульные тесты\n",
    "\n",
    "Допустим, перед нами стоит задача реализовать сортировку списка. Вместо того, чтобы сразу броситься в бой, мы создадим модульные тесты, и благодаря этому мы сразу продумываем спецификацию функции, фиксируя её в наборе тестов."
   ]
  },
  {
   "cell_type": "code",
   "execution_count": 2,
   "metadata": {
    "ExecuteTime": {
     "end_time": "2018-07-18T05:00:51.646524Z",
     "start_time": "2018-07-18T05:00:51.641574Z"
    }
   },
   "outputs": [],
   "source": [
    "def test_sort():\n",
    "    print(\"Test #1\")\n",
    "    print(\"testcase #1: \", end=\"\")\n",
    "    A = [4, 2, 5, 1, 3]\n",
    "    A_sorted = [1, 2, 3, 4, 5]\n",
    "    sort_algorithm(A)\n",
    "    passed = A == A_sorted\n",
    "    print(\"Ok\" if passed else \"Fail\")\n",
    "\n",
    "    print(\"testcase #2: \", end=\"\")\n",
    "    A = []\n",
    "    A_sorted = []\n",
    "    sort_algorithm(A)\n",
    "    passed = A == A_sorted\n",
    "    print(\"Ok\" if passed else \"Fail\")\n",
    "\n",
    "    print(\"testcase #3: \", end=\"\")\n",
    "    A = [1, 2, 3, 4, 5]\n",
    "    A_sorted = [1, 2, 3, 4, 5]\n",
    "    sort_algorithm(A)\n",
    "    passed = A == A_sorted\n",
    "    print(\"Ok\" if passed else \"Fail\")"
   ]
  },
  {
   "cell_type": "markdown",
   "metadata": {},
   "source": [
    "В использованном интерфейсе `sort_algorithm()` мы заложились на то, что список сортируется на месте. При этом пустой список остаётся пустым, отсортированный по возрастанию список остаётся отсортированным.\n",
    "\n",
    "### Пишем заглушку\n",
    "\n",
    "Теперь создаем тестируемую функцию-заглушку, необходимую для того, чтобы код выполнялся. Как только заглушка написана, нужно запустить тесты, и они не должны показывать ОК."
   ]
  },
  {
   "cell_type": "code",
   "execution_count": 3,
   "metadata": {
    "ExecuteTime": {
     "end_time": "2018-07-18T05:01:08.090335Z",
     "start_time": "2018-07-18T05:01:08.085560Z"
    }
   },
   "outputs": [
    {
     "name": "stdout",
     "output_type": "stream",
     "text": [
      "Test #1\n",
      "testcase #1: Fail\n",
      "testcase #2: Ok\n",
      "testcase #3: Ok\n"
     ]
    }
   ],
   "source": [
    "def sort_algorithm(A):\n",
    "    pass\n",
    "\n",
    "test_sort()"
   ]
  },
  {
   "cell_type": "markdown",
   "metadata": {},
   "source": [
    "К сожалению, тест разработан плохо. Заглушка, которая ничего не делает, прошла две трети тестовых сценариев... Может показаться, что функция сортировки почти работает, а это совсем не так.\n",
    "\n",
    "Значит, во-первых, **мы должны выдавать итоговый Fail, даже если один раз случился Fail**. А во-вторых, нужно сделать **больше тестов** на функциональное действие, а не бездействие. Как минимум, можно добавить случай инвертированного списка, а также случай, когда в списке есть повторяющиеся числа. Так-так!\n",
    "\n",
    "Хм-м-м... Кстати, не стоит ли проверить устойчивость сортировки (не переставляет ли она местами одинаковые значения)?\n",
    "\n",
    "И не проверить ли сортировку других объектов — дробных чисел, строк, кортежей, а не только целых чисел?\n",
    "\n",
    "А что с допустимой длиной списка? Какой длины список должно быть возможно отсортировать нашей функцией за разумное время? Ведь существуют алгоритмы сортировки совершенно разных асимптотик...\n",
    "\n",
    "Эти вопросы, возникшие уже на первом этапе разработки по TDD, являются самым ценным последствием использования этой методологии! TDD буквально **заставляет сконцентрироваться на спецификации интерфейса функции**. В этот момент мы должны **остановить дальнейшую разработку и уточнить требования**: заглянуть в проектную документацию, пойти к начальнику/заказчику/тимлидеру или, если сам себе начальник, принять чёткие обоснованные решения и зафиксировать их в тестах. При этом хорошо бы написать названия этим тестам так, чтобы было понятно, что именно они тестируют.\n",
    "\n",
    "Допустим, мы сходили к руководителю группы разработчиков (тимлидеру) и получили ответы на все наши вопросы:\n",
    "\n",
    "1. Должна ли сортировка быть устойчивой? — Да.\n",
    "2. Должна ли сортировка быть универсальной? — Да.\n",
    "3. Максимальная длина сортируемого списка? — 100 элементов.\n",
    "4. Какая требуется асимптотика? — Квадратичная, O(N^2).\n",
    "\n",
    "(Сейчас не будем обсуждать, что в Python есть стандартная универсальная прагматическая сортировка за `O(N*logN)`. Наша задача — на примере Bubble sort, известного \"велосипеда\", показать ход разработки TDD.)\n",
    "\n",
    "### Исправляем тесты\n",
    "\n",
    "Исправить их нужно так, чтобы тестирование заглушки выдавало отрицательный результат. Но главное — чтобы все наши утверждения про сортировку были зафиксированы в тестах.\n",
    "\n",
    "В разработке тестов будем следовать структурному программированию и движению \"сверху-вниз\". Разобьём тесты на отдельные функции с человеко-понятными именами (соответствующими спецификации, определённой выше). Вызывать их будем из главной функции:"
   ]
  },
  {
   "cell_type": "code",
   "execution_count": 4,
   "metadata": {
    "ExecuteTime": {
     "end_time": "2018-07-18T05:09:55.915998Z",
     "start_time": "2018-07-18T05:09:55.883378Z"
    }
   },
   "outputs": [
    {
     "name": "stdout",
     "output_type": "stream",
     "text": [
      "Test sorting algorithm:\n",
      "- sort algorithm works in simple cases: Fail\n",
      "- sort algorithm is stable: Fail\n",
      "- sort algorithm is universal: Fail\n",
      "- sort algorithm on scale=100: Fail\n",
      "Summary: Fail\n"
     ]
    }
   ],
   "source": [
    "from random import shuffle  # it randomizes order of elements\n",
    "\n",
    "\n",
    "def test_sort():\n",
    "    print(\"Test sorting algorithm:\")\n",
    "    passed = True\n",
    "    \n",
    "    passed &= test_sort_works_in_simple_cases()\n",
    "    passed &= test_sort_algorithm_stable()\n",
    "    passed &= test_sort_algorithm_is_universal()\n",
    "    passed &= test_sort_algorithm_scalability()\n",
    "    \n",
    "    print(\"Summary:\", \"Ok\" if passed else \"Fail\")\n",
    "    \n",
    "\n",
    "def test_sort_works_in_simple_cases():\n",
    "    print(\"- sort algorithm works in simple cases:\", end=\" \")\n",
    "    passed = True\n",
    "    \n",
    "    for A1 in ([1], [], [1, 2], [1, 2, 3, 4, 5], \n",
    "               [4, 2, 5, 1, 3], [5, 4, 4, 5, 5],\n",
    "               list(range(20)), list(range(20, 1, -1))):\n",
    "        A2 = sorted(list(A1))  # yes, we are cheating here to shorten example\n",
    "        sort_algorithm(A1)\n",
    "        passed &= all(x == y for x, y in zip(A1, A2))\n",
    "     \n",
    "    print(\"Ok\" if passed else \"Fail\")\n",
    "    return passed\n",
    "\n",
    "\n",
    "def test_sort_algorithm_stable():\n",
    "    print(\"- sort algorithm is stable:\", end=\" \")\n",
    "    passed = True\n",
    "    \n",
    "    for A1 in ([[100] for i in range(5)],\n",
    "               [[1, 2], [1, 2], [2, 2], [2, 2], [2, 3], [2, 3]],\n",
    "               [[5, 2] for i in range(30)] + [[10, 5] for i in range(30)]):\n",
    "        shuffle(A1)\n",
    "        A2 = sorted(list(A1))  # here we are cheating: standard sort is stable\n",
    "        sort_algorithm(A1)\n",
    "        # to test stability we will check A1[i] not equals A2[i], but is A2[i]\n",
    "        passed &= all(x is y for x, y in zip(A1, A2))\n",
    "     \n",
    "    print(\"Ok\" if passed else \"Fail\")\n",
    "    return passed\n",
    "\n",
    "\n",
    "def test_sort_algorithm_is_universal():\n",
    "    print(\"- sort algorithm is universal:\", end=\" \")\n",
    "    passed = True\n",
    "    \n",
    "    # testing types: str, float, list\n",
    "    for A1 in (list('abcdefg'),\n",
    "               [float(i)**0.5 for i in range(10)],\n",
    "               [[1, 2], [2, 3], [3, 4], [3, 4, 5], [6, 7]]):\n",
    "        shuffle(A1)\n",
    "        A2 = sorted(list(A1))\n",
    "        sort_algorithm(A1)\n",
    "        passed &= all(x == y for x, y in zip(A1, A2))\n",
    "     \n",
    "    print(\"Ok\" if passed else \"Fail\")\n",
    "    return passed\n",
    "\n",
    "\n",
    "def test_sort_algorithm_scalability(max_scale=100):\n",
    "    print(\"- sort algorithm on scale={0}:\".format(max_scale), end=\" \")\n",
    "    passed = True\n",
    "    \n",
    "    for A1 in (list(range(max_scale)),\n",
    "               list(range(max_scale//2, max_scale)) + list(range(max_scale//2)),\n",
    "               list(range(max_scale, 0, -1))):\n",
    "        shuffle(A1)\n",
    "        A2 = sorted(list(A1))\n",
    "        sort_algorithm(A1)\n",
    "        passed &= all(x == y for x, y in zip(A1, A2))\n",
    "     \n",
    "    print(\"Ok\" if passed else \"Fail\")\n",
    "    return passed\n",
    "\n",
    "\n",
    "def sort_algorithm(A):\n",
    "    \"Sorting of list A on place.\"\n",
    "    pass\n",
    "\n",
    " \n",
    "test_sort()"
   ]
  },
  {
   "cell_type": "markdown",
   "metadata": {},
   "source": [
    "Теперь тестирование сделано достаточно подробно, чтобы специфицировать задачу данной конкретной сортировки. Чтение главной функции `test_sort()` позволяет понять свойства алгоритма кратко, а изучение той или иной тестирующей функции даёт нам детальное понимание того или иного свойства.\n",
    "\n",
    "Важно и то, что эта в кавычках \"документация\" является действующими критериями, которые одобрят наш код только тогда, когда он будет им соответствовать.\n",
    "\n",
    "### Убеждаемся, что заглушка не проходит обновлённые тесты\n",
    "\n",
    "Запустите код, приведённый выше, и получите такое резюме тестирования:\n",
    "\n",
    "````\n",
    "Test sorting algorithm:\n",
    "- sort algorithm works in simple cases: Fail\n",
    "- sort algorithm is stable: Fail\n",
    "- sort algorithm is universal: Fail\n",
    "- sort algorithm on scale=100: Fail\n",
    "Summary: Fail\n",
    "````\n",
    "\n",
    "Это победа! \"Красный цвет\" достигнут! Модульные тесты написаны, и можно переходить к реализации.\n",
    "\n",
    "*Вовремя будет сказать, что использование библиотеки unittest или библиотеки doctest позволяет существенно упростить оформление и укоротить длину поведенческих требований к функции, оформленных в юнит-тесты. Возможности двух этих библиотек будут показаны в следующих материалах курса.*\n",
    "\n",
    "## Реализуем требуемую функциональность\n",
    "\n",
    "Здесь нужно действовать быстро и решительно, ведь спецификация требований у нас на кончиках пальцев, задача предельно ясна и конкретна.\n",
    "\n",
    "В соответствии с принципом \"Test First\", следует писать только такой код, который **абсолютно необходим**, чтобы тесты выполнялись успешно. Можно даже \"вставить костыль\", который не приводит к падению тестов.\n",
    "\n",
    "Ради простоты демонстрации вначале сделаем небольшую ошибку в сортировке методом пузырька. Результат тестирования показывает, что данная версия неустойчива:"
   ]
  },
  {
   "cell_type": "code",
   "execution_count": 6,
   "metadata": {
    "ExecuteTime": {
     "end_time": "2018-07-18T05:19:55.908044Z",
     "start_time": "2018-07-18T05:19:55.896270Z"
    }
   },
   "outputs": [
    {
     "name": "stdout",
     "output_type": "stream",
     "text": [
      "Test sorting algorithm:\n",
      "- sort algorithm works in simple cases: Ok\n",
      "- sort algorithm is stable: Fail\n",
      "- sort algorithm is universal: Ok\n",
      "- sort algorithm on scale=100: Ok\n",
      "Summary: Fail\n"
     ]
    }
   ],
   "source": [
    "def sort_algorithm(A):\n",
    "    \"\"\"\n",
    "    Sorting of list on place. Using Bubble Sort algorithm.\n",
    "    \"\"\"\n",
    "    N = len(A)\n",
    "    for i in range(N-1):\n",
    "        for k in range(N-1):\n",
    "            if A[k] >= A[k+1]:\n",
    "                A[k], A[k+1] = A[k+1], A[k]\n",
    "                \n",
    "test_sort()"
   ]
  },
  {
   "cell_type": "markdown",
   "metadata": {},
   "source": [
    "Найдите ошибку (опечатку) и добейтесь \"зелёного цвета\" самостоятельно. Не переделывайте алгоритм полностью, ведь радикальное усовершенствование нам предстоит делать уже на \"зелёный цвет\".\n",
    "\n",
    "## Делаем рефакторинг\n",
    "\n",
    "Когда типичный программист приступает к рефакторингу, он нервничает и чрезвычайно напряжён. Ведь причиной рефакторинга чаще всего является то, что программный код стал уже настолько неразборчив, что перестал работать, а где именно — большой вопрос... Такой рефакторинг на \"красный свет\" может не только не решить проблемы, но и сломать программу, вплоть до развала проекта по сценарию \"Вавилонской башни\". В любой момент рефакторинга при переписывании кода программист может что-то сломать и даже не заметить этого. Неспроста слово \"рефакторинг\" для многих ИТ-менеджеров как красная тряпка для быка: как руководитель, он не понимает смысла этой \"возни с уже написанным кодом\", а также боится регрессии.\n",
    "\n",
    "Выход один — рефакторинг нужно начинать только при наличии модульных тестов и только на \"зелёный цвет\", чтобы всегда быть готовым откатиться на рабочую версию кода, если что-то пойдёт не так.\n",
    "\n",
    "У нас как раз \"зелёный цвет\", поэтому **спокойно и смело переписываем код, запуская время от времени наши тесты**, пока не убедимся, что та версия сортировки, которая нам визуально нравится (понятная, чистая и практичная), проходит все тесты и получает итоговый ОК.\n",
    "\n",
    "Остановимся на таком варианте:"
   ]
  },
  {
   "cell_type": "code",
   "execution_count": 7,
   "metadata": {
    "ExecuteTime": {
     "end_time": "2018-07-18T05:23:27.259801Z",
     "start_time": "2018-07-18T05:23:27.251101Z"
    }
   },
   "outputs": [
    {
     "name": "stdout",
     "output_type": "stream",
     "text": [
      "Test sorting algorithm:\n",
      "- sort algorithm works in simple cases: Ok\n",
      "- sort algorithm is stable: Ok\n",
      "- sort algorithm is universal: Ok\n",
      "- sort algorithm on scale=100: Ok\n",
      "Summary: Ok\n"
     ]
    }
   ],
   "source": [
    "def sort_algorithm(A):\n",
    "    \"\"\"\n",
    "    Sorting of list on place. Using Bubble Sort algorithm.\n",
    "    \"\"\"\n",
    "    N = len(A)\n",
    "    list_is_sorted = False\n",
    "    bypass = 1\n",
    "    while not list_is_sorted:\n",
    "        list_is_sorted = True\n",
    "        for k in range(N - bypass):\n",
    "            if A[k] > A[k+1]:\n",
    "                A[k], A[k+1] = A[k+1], A[k]\n",
    "                list_is_sorted = False\n",
    "        bypass += 1\n",
    "        \n",
    "test_sort()"
   ]
  },
  {
   "cell_type": "markdown",
   "metadata": {},
   "source": [
    "## Заключение\n",
    "\n",
    "Результат применения TDD — счастье программиста, а именно:\n",
    "\n",
    "1. Уверенность в собственном коде\n",
    "2. Отсутствие страха и спокойствие при рефакторинге\n",
    "3. Наличие актуальной и автоматически проверяющейся спецификации поведения данной функции\n",
    "\n",
    "При этом не следует превращать TDD в догму, считая, что код, написанный по другим методологиям, заведомо плох. Любую самую прекрасную идею можно довести до абсурда.\n",
    "\n",
    "## Статьи для дополнительного чтения\n",
    "\n",
    "1. [Модульное тестирование и Test-Driven Development, или Как управлять страхом в программировании](http://citforum.ru/SE/testing/mod_test/), Сергей Белов\n",
    "2. [Applying TDD in Your Company is More Important than Ever!](http://dennis-nerush.blogspot.ru/2015/11/applying-tdd-in-your-company-is-more.html), Dennis Nerush\n",
    "3. [Эволюция юнит-теста](https://habrahabr.ru/post/107262/), Андрей Солнцев\n"
   ]
  }
 ],
 "metadata": {
  "kernelspec": {
   "display_name": "Python 3",
   "language": "python",
   "name": "python3"
  },
  "language_info": {
   "codemirror_mode": {
    "name": "ipython",
    "version": 3
   },
   "file_extension": ".py",
   "mimetype": "text/x-python",
   "name": "python",
   "nbconvert_exporter": "python",
   "pygments_lexer": "ipython3",
   "version": "3.6.5"
  },
  "toc": {
   "base_numbering": 1,
   "nav_menu": {},
   "number_sections": true,
   "sideBar": false,
   "skip_h1_title": true,
   "title_cell": "Table of Contents",
   "title_sidebar": "Contents",
   "toc_cell": false,
   "toc_position": {},
   "toc_section_display": true,
   "toc_window_display": true
  }
 },
 "nbformat": 4,
 "nbformat_minor": 2
}
