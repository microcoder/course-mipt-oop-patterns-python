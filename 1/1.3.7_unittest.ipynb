{
 "cells": [
  {
   "cell_type": "markdown",
   "metadata": {},
   "source": [
    "# Библиотека unittest\n",
    "\n",
    "Допустим, что у нас есть функция для вычисления чисел [фибоначчи](https://ru.wikipedia.org/wiki/%D0%A4%D0%B8%D0%B1%D0%BE%D0%BD%D0%B0%D1%87%D1%87%D0%B8), которая сейчас специально не реализована:"
   ]
  },
  {
   "cell_type": "code",
   "execution_count": 1,
   "metadata": {
    "ExecuteTime": {
     "end_time": "2018-07-18T06:15:47.062142Z",
     "start_time": "2018-07-18T06:15:47.057572Z"
    }
   },
   "outputs": [],
   "source": [
    "def fib(n: int) -> int:\n",
    "    \"\"\"\n",
    "    Calculates fibonacci number by it's index\n",
    "    \"\"\"\n",
    "    pass"
   ]
  },
  {
   "cell_type": "markdown",
   "metadata": {},
   "source": [
    "Чтобы протестировать нашу функцию, для этого нужно создать тестирующий модуль. Этот модуль будет содержать тестирующий класс. Тестируемый класс должен наследоваться от класса `unittest.TestCase`. Тестирующими методами в тестирующем классе будут все методы которые начинаются с названия `test_...`.\n",
    "\n",
    "При вызове `unittest.main()` в Jupyter произойдет ошибка тестирования, причина описана, например, [здесь](https://medium.com/@vladbezden/using-python-unittest-in-ipython-or-jupyter-732448724e31). Для обхода проблемы в метод `unittest.main()` передадим параметры исключительно для запусков тестов в Jupyter:"
   ]
  },
  {
   "cell_type": "code",
   "execution_count": 12,
   "metadata": {
    "ExecuteTime": {
     "end_time": "2018-07-18T06:51:59.826143Z",
     "start_time": "2018-07-18T06:51:59.811828Z"
    }
   },
   "outputs": [
    {
     "name": "stderr",
     "output_type": "stream",
     "text": [
      "FFF\n",
      "======================================================================\n",
      "FAIL: test_fractional (__main__.TestFibonacciNumbers)\n",
      "----------------------------------------------------------------------\n",
      "Traceback (most recent call last):\n",
      "  File \"<ipython-input-12-3607375a712d>\", line 31, in test_fractional\n",
      "    self.assertRaises(ArithmeticError, fib, 2.5)\n",
      "AssertionError: ArithmeticError not raised by fib\n",
      "\n",
      "======================================================================\n",
      "FAIL: test_negative (__main__.TestFibonacciNumbers) (i=1)\n",
      "----------------------------------------------------------------------\n",
      "Traceback (most recent call last):\n",
      "  File \"<ipython-input-12-3607375a712d>\", line 26, in test_negative\n",
      "    self.assertRaises(ArithmeticError, fib, -1)\n",
      "AssertionError: ArithmeticError not raised by fib\n",
      "\n",
      "======================================================================\n",
      "FAIL: test_negative (__main__.TestFibonacciNumbers) (i=2)\n",
      "----------------------------------------------------------------------\n",
      "Traceback (most recent call last):\n",
      "  File \"<ipython-input-12-3607375a712d>\", line 28, in test_negative\n",
      "    self.assertRaises(ArithmeticError, fib, -10)\n",
      "AssertionError: ArithmeticError not raised by fib\n",
      "\n",
      "======================================================================\n",
      "FAIL: test_positive (__main__.TestFibonacciNumbers)\n",
      "----------------------------------------------------------------------\n",
      "Traceback (most recent call last):\n",
      "  File \"<ipython-input-12-3607375a712d>\", line 17, in test_positive\n",
      "    self.assertEqual(fib(10), 55)\n",
      "AssertionError: None != 55\n",
      "\n",
      "======================================================================\n",
      "FAIL: test_simple (__main__.TestFibonacciNumbers) (i=1)\n",
      "----------------------------------------------------------------------\n",
      "Traceback (most recent call last):\n",
      "  File \"<ipython-input-12-3607375a712d>\", line 14, in test_simple\n",
      "    self.assertEqual(fib(n), fib_n)\n",
      "AssertionError: None != 1\n",
      "\n",
      "======================================================================\n",
      "FAIL: test_simple (__main__.TestFibonacciNumbers) (i=2)\n",
      "----------------------------------------------------------------------\n",
      "Traceback (most recent call last):\n",
      "  File \"<ipython-input-12-3607375a712d>\", line 14, in test_simple\n",
      "    self.assertEqual(fib(n), fib_n)\n",
      "AssertionError: None != 1\n",
      "\n",
      "======================================================================\n",
      "FAIL: test_simple (__main__.TestFibonacciNumbers) (i=3)\n",
      "----------------------------------------------------------------------\n",
      "Traceback (most recent call last):\n",
      "  File \"<ipython-input-12-3607375a712d>\", line 14, in test_simple\n",
      "    self.assertEqual(fib(n), fib_n)\n",
      "AssertionError: None != 2\n",
      "\n",
      "======================================================================\n",
      "FAIL: test_simple (__main__.TestFibonacciNumbers) (i=4)\n",
      "----------------------------------------------------------------------\n",
      "Traceback (most recent call last):\n",
      "  File \"<ipython-input-12-3607375a712d>\", line 14, in test_simple\n",
      "    self.assertEqual(fib(n), fib_n)\n",
      "AssertionError: None != 3\n",
      "\n",
      "======================================================================\n",
      "FAIL: test_simple (__main__.TestFibonacciNumbers) (i=5)\n",
      "----------------------------------------------------------------------\n",
      "Traceback (most recent call last):\n",
      "  File \"<ipython-input-12-3607375a712d>\", line 14, in test_simple\n",
      "    self.assertEqual(fib(n), fib_n)\n",
      "AssertionError: None != 5\n",
      "\n",
      "======================================================================\n",
      "FAIL: test_zero (__main__.TestFibonacciNumbers)\n",
      "----------------------------------------------------------------------\n",
      "Traceback (most recent call last):\n",
      "  File \"<ipython-input-12-3607375a712d>\", line 6, in test_zero\n",
      "    self.assertEqual(fib(0), 0)\n",
      "AssertionError: None != 0\n",
      "\n",
      "----------------------------------------------------------------------\n",
      "Ran 5 tests in 0.004s\n",
      "\n",
      "FAILED (failures=10)\n"
     ]
    }
   ],
   "source": [
    "import unittest\n",
    "\n",
    "class TestFibonacciNumbers(unittest.TestCase):\n",
    "    \n",
    "    def test_zero(self):\n",
    "        self.assertEqual(fib(0), 0)\n",
    "\n",
    "    def test_simple(self):\n",
    "        \"\"\"\n",
    "        Можно протестировать в этом тесте несколько значений в виде подтестов.\n",
    "        \"\"\"\n",
    "        for n, fib_n in (1, 1), (2, 1), (3, 2), (4, 3), (5, 5):\n",
    "            with self.subTest(i=n):\n",
    "                self.assertEqual(fib(n), fib_n)\n",
    "    \n",
    "    def test_positive(self):\n",
    "        self.assertEqual(fib(10), 55)\n",
    "        \n",
    "    def test_negative(self):\n",
    "        \"\"\"\n",
    "        Этот test case будет ожидать исключение ArithmeticError:\n",
    "        \"\"\"\n",
    "        with self.subTest(i=1):\n",
    "            # В assertRaises() передается ожидаемое исключение, функция и список её аргументов.\n",
    "            # Если исключение не будет вызвано, это будет считаться ошибкой, тест вернет False\n",
    "            self.assertRaises(ArithmeticError, fib, -1)\n",
    "        with self.subTest(i=2):\n",
    "            self.assertRaises(ArithmeticError, fib, -10)\n",
    "\n",
    "    def test_fractional(self):\n",
    "        self.assertRaises(ArithmeticError, fib, 2.5)\n",
    "            \n",
    "if __name__ == '__main__':\n",
    "    unittest.main(argv=['first-arg-is-ignored'], exit=False)"
   ]
  },
  {
   "cell_type": "markdown",
   "metadata": {},
   "source": [
    "Давайте реализуем функцию фибоначчи:"
   ]
  },
  {
   "cell_type": "code",
   "execution_count": 13,
   "metadata": {
    "ExecuteTime": {
     "end_time": "2018-07-18T06:56:56.343298Z",
     "start_time": "2018-07-18T06:56:56.338876Z"
    }
   },
   "outputs": [],
   "source": [
    "def fib(n: int) -> int:\n",
    "    \"\"\"\n",
    "    Calculates fibonacci number by it's index\n",
    "    \"\"\"\n",
    "    f = [0, 1] + [0] * (n - 1)\n",
    "    for i in range(2, n + 1):\n",
    "        f[i] = f[i - 1] + f[i - 2]\n",
    "    \n",
    "    return f[n]"
   ]
  },
  {
   "cell_type": "markdown",
   "metadata": {},
   "source": [
    "При запуске тестов мы поймаем ошибки, где в тесте `test_fractional` не вызовется исключение `ArithmeticError`, а в тесте `test_negative` индекс списка выйдет за пределы:"
   ]
  },
  {
   "cell_type": "code",
   "execution_count": 14,
   "metadata": {
    "ExecuteTime": {
     "end_time": "2018-07-18T06:57:35.432716Z",
     "start_time": "2018-07-18T06:57:35.398789Z"
    }
   },
   "outputs": [
    {
     "name": "stderr",
     "output_type": "stream",
     "text": [
      "E...\n",
      "======================================================================\n",
      "ERROR: test_fractional (__main__.TestFibonacciNumbers)\n",
      "----------------------------------------------------------------------\n",
      "Traceback (most recent call last):\n",
      "  File \"<ipython-input-14-6e320d09bc47>\", line 31, in test_fractional\n",
      "    self.assertRaises(ArithmeticError, fib, 2.5)\n",
      "  File \"/usr/lib/python3.6/unittest/case.py\", line 733, in assertRaises\n",
      "    return context.handle('assertRaises', args, kwargs)\n",
      "  File \"/usr/lib/python3.6/unittest/case.py\", line 178, in handle\n",
      "    callable_obj(*args, **kwargs)\n",
      "  File \"<ipython-input-13-ff3ddd98d0bf>\", line 5, in fib\n",
      "    f = [0, 1] + [0] * (n - 1)\n",
      "TypeError: can't multiply sequence by non-int of type 'float'\n",
      "\n",
      "======================================================================\n",
      "ERROR: test_negative (__main__.TestFibonacciNumbers) (i=2)\n",
      "----------------------------------------------------------------------\n",
      "Traceback (most recent call last):\n",
      "  File \"<ipython-input-14-6e320d09bc47>\", line 28, in test_negative\n",
      "    self.assertRaises(ArithmeticError, fib, -10)\n",
      "  File \"/usr/lib/python3.6/unittest/case.py\", line 733, in assertRaises\n",
      "    return context.handle('assertRaises', args, kwargs)\n",
      "  File \"/usr/lib/python3.6/unittest/case.py\", line 178, in handle\n",
      "    callable_obj(*args, **kwargs)\n",
      "  File \"<ipython-input-13-ff3ddd98d0bf>\", line 9, in fib\n",
      "    return f[n]\n",
      "IndexError: list index out of range\n",
      "\n",
      "======================================================================\n",
      "FAIL: test_negative (__main__.TestFibonacciNumbers) (i=1)\n",
      "----------------------------------------------------------------------\n",
      "Traceback (most recent call last):\n",
      "  File \"<ipython-input-14-6e320d09bc47>\", line 26, in test_negative\n",
      "    self.assertRaises(ArithmeticError, fib, -1)\n",
      "AssertionError: ArithmeticError not raised by fib\n",
      "\n",
      "----------------------------------------------------------------------\n",
      "Ran 5 tests in 0.024s\n",
      "\n",
      "FAILED (failures=1, errors=2)\n"
     ]
    }
   ],
   "source": [
    "import unittest\n",
    "\n",
    "class TestFibonacciNumbers(unittest.TestCase):\n",
    "    \n",
    "    def test_zero(self):\n",
    "        self.assertEqual(fib(0), 0)\n",
    "\n",
    "    def test_simple(self):\n",
    "        \"\"\"\n",
    "        Можно протестировать в этом тесте несколько значений в виде подтестов.\n",
    "        \"\"\"\n",
    "        for n, fib_n in (1, 1), (2, 1), (3, 2), (4, 3), (5, 5):\n",
    "            with self.subTest(i=n):\n",
    "                self.assertEqual(fib(n), fib_n)\n",
    "    \n",
    "    def test_positive(self):\n",
    "        self.assertEqual(fib(10), 55)\n",
    "        \n",
    "    def test_negative(self):\n",
    "        \"\"\"\n",
    "        Этот test case будет ожидать исключение ArithmeticError:\n",
    "        \"\"\"\n",
    "        with self.subTest(i=1):\n",
    "            # В assertRaises() передается ожидаемое исключение, функция и список её аргументов.\n",
    "            # Если исключение не будет вызвано, это будет считаться ошибкой, тест вернет False\n",
    "            self.assertRaises(ArithmeticError, fib, -1)\n",
    "        with self.subTest(i=2):\n",
    "            self.assertRaises(ArithmeticError, fib, -10)\n",
    "\n",
    "    def test_fractional(self):\n",
    "        self.assertRaises(ArithmeticError, fib, 2.5)\n",
    "            \n",
    "if __name__ == '__main__':\n",
    "    unittest.main(argv=['first-arg-is-ignored'], exit=False)"
   ]
  },
  {
   "cell_type": "markdown",
   "metadata": {
    "ExecuteTime": {
     "end_time": "2018-07-18T07:01:26.717964Z",
     "start_time": "2018-07-18T07:01:26.713244Z"
    }
   },
   "source": [
    "Исправляем функцию `fib()` и запускаем тесты заново:"
   ]
  },
  {
   "cell_type": "code",
   "execution_count": 16,
   "metadata": {
    "ExecuteTime": {
     "end_time": "2018-07-18T07:03:14.029712Z",
     "start_time": "2018-07-18T07:03:14.025836Z"
    }
   },
   "outputs": [],
   "source": [
    "def fib(n: int) -> int:\n",
    "    \"\"\"\n",
    "    Calculates fibonacci number by it's index\n",
    "    \"\"\"\n",
    "    if not isinstance(n, int) or n < 0:\n",
    "        raise ArithmeticError\n",
    "        \n",
    "    f = [0, 1] + [0] * (n - 1)\n",
    "    for i in range(2, n + 1):\n",
    "        f[i] = f[i - 1] + f[i - 2]\n",
    "    \n",
    "    return f[n]"
   ]
  },
  {
   "cell_type": "code",
   "execution_count": 17,
   "metadata": {
    "ExecuteTime": {
     "end_time": "2018-07-18T07:03:22.968572Z",
     "start_time": "2018-07-18T07:03:22.954016Z"
    }
   },
   "outputs": [
    {
     "name": "stderr",
     "output_type": "stream",
     "text": [
      ".....\n",
      "----------------------------------------------------------------------\n",
      "Ran 5 tests in 0.004s\n",
      "\n",
      "OK\n"
     ]
    }
   ],
   "source": [
    "import unittest\n",
    "\n",
    "class TestFibonacciNumbers(unittest.TestCase):\n",
    "    \n",
    "    def test_zero(self):\n",
    "        self.assertEqual(fib(0), 0)\n",
    "\n",
    "    def test_simple(self):\n",
    "        \"\"\"\n",
    "        Можно протестировать в этом тесте несколько значений в виде подтестов.\n",
    "        \"\"\"\n",
    "        for n, fib_n in (1, 1), (2, 1), (3, 2), (4, 3), (5, 5):\n",
    "            with self.subTest(i=n):\n",
    "                self.assertEqual(fib(n), fib_n)\n",
    "    \n",
    "    def test_positive(self):\n",
    "        self.assertEqual(fib(10), 55)\n",
    "        \n",
    "    def test_negative(self):\n",
    "        \"\"\"\n",
    "        Этот test case будет ожидать исключение ArithmeticError:\n",
    "        \"\"\"\n",
    "        with self.subTest(i=1):\n",
    "            # В assertRaises() передается ожидаемое исключение, функция и список её аргументов.\n",
    "            # Если исключение не будет вызвано, это будет считаться ошибкой, тест вернет False\n",
    "            self.assertRaises(ArithmeticError, fib, -1)\n",
    "        with self.subTest(i=2):\n",
    "            self.assertRaises(ArithmeticError, fib, -10)\n",
    "\n",
    "    def test_fractional(self):\n",
    "        self.assertRaises(ArithmeticError, fib, 2.5)\n",
    "            \n",
    "if __name__ == '__main__':\n",
    "    unittest.main(argv=['first-arg-is-ignored'], exit=False)"
   ]
  }
 ],
 "metadata": {
  "kernelspec": {
   "display_name": "Python 3",
   "language": "python",
   "name": "python3"
  },
  "language_info": {
   "codemirror_mode": {
    "name": "ipython",
    "version": 3
   },
   "file_extension": ".py",
   "mimetype": "text/x-python",
   "name": "python",
   "nbconvert_exporter": "python",
   "pygments_lexer": "ipython3",
   "version": "3.6.5"
  },
  "toc": {
   "base_numbering": 1,
   "nav_menu": {},
   "number_sections": true,
   "sideBar": false,
   "skip_h1_title": true,
   "title_cell": "Table of Contents",
   "title_sidebar": "Contents",
   "toc_cell": false,
   "toc_position": {},
   "toc_section_display": true,
   "toc_window_display": false
  }
 },
 "nbformat": 4,
 "nbformat_minor": 2
}
